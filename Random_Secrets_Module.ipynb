{
 "cells": [
  {
   "cell_type": "code",
   "execution_count": 5,
   "id": "7da1944e-fe5b-42db-839a-f986328023da",
   "metadata": {},
   "outputs": [
    {
     "name": "stdin",
     "output_type": "stream",
     "text": [
      " 6\n"
     ]
    },
    {
     "name": "stdout",
     "output_type": "stream",
     "text": [
      "OTP:  wYTIqW\n"
     ]
    }
   ],
   "source": [
    "import random\n",
    "import string\n",
    "\n",
    "length = int(input())\n",
    "characters = string.digits + string.ascii_letters\n",
    "otp = ''.join(random.choice(characters) for i in range(length))\n",
    "\n",
    "print(\"OTP: \",otp)"
   ]
  },
  {
   "cell_type": "code",
   "execution_count": 7,
   "id": "5ee8fa39-ec53-491f-b26f-40e35dcd8f40",
   "metadata": {},
   "outputs": [
    {
     "name": "stdout",
     "output_type": "stream",
     "text": [
      "Generate OTP:  cB9eXS\n"
     ]
    }
   ],
   "source": [
    "import random\n",
    "import string\n",
    "\n",
    "def gen_otp(length):\n",
    "  characters = string.digits + string.ascii_letters\n",
    "  otp = ''.join(random.choice(characters) for i in range(length))\n",
    "  return otp\n",
    "\n",
    "otp_length = 6\n",
    "print(\"Generate OTP: \",gen_otp(otp_length))"
   ]
  },
  {
   "cell_type": "code",
   "execution_count": 11,
   "id": "82aa8577-2ae5-4f15-ba26-af8a426a8ce8",
   "metadata": {},
   "outputs": [
    {
     "name": "stdin",
     "output_type": "stream",
     "text": [
      "Enter length of Password:  6\n"
     ]
    },
    {
     "name": "stdout",
     "output_type": "stream",
     "text": [
      "Generate Password:  LfPasB\n",
      "Encrypted Password:  b'gAAAAABnOhIzLarBbfZn3Y_frpULAHaVI5Ju660mZz9St4mbFxzJ-Q1NlvWZDkUGezEzbOfY8pZdWHjOsNEPzRT1undX2XRnGQ=='\n",
      "Decrypted Password:  LfPasB\n"
     ]
    }
   ],
   "source": [
    "from cryptography.fernet import Fernet\n",
    "import secrets\n",
    "import string\n",
    "\n",
    "length = int(input(\"Enter length of Password: \"))\n",
    "characters = string.ascii_letters + string.digits\n",
    "password = ''.join(secrets.choice(characters) for i in range(length))\n",
    "\n",
    "key = Fernet.generate_key()\n",
    "cipher_suite = Fernet(key)\n",
    "\n",
    "print(\"Generate Password: \",password)\n",
    "\n",
    "encrypt_password = cipher_suite.encrypt(password.encode())\n",
    "print(\"Encrypted Password: \",encrypt_password)\n",
    "\n",
    "decrypt_password = cipher_suite.decrypt(encrypt_password).decode()\n",
    "print(\"Decrypted Password: \",decrypt_password)"
   ]
  },
  {
   "cell_type": "code",
   "execution_count": null,
   "id": "2cd9ce03-e983-422a-9af4-4f2a3c638aea",
   "metadata": {},
   "outputs": [],
   "source": []
  }
 ],
 "metadata": {
  "kernelspec": {
   "display_name": "Python 3 (ipykernel)",
   "language": "python",
   "name": "python3"
  },
  "language_info": {
   "codemirror_mode": {
    "name": "ipython",
    "version": 3
   },
   "file_extension": ".py",
   "mimetype": "text/x-python",
   "name": "python",
   "nbconvert_exporter": "python",
   "pygments_lexer": "ipython3",
   "version": "3.12.4"
  }
 },
 "nbformat": 4,
 "nbformat_minor": 5
}
