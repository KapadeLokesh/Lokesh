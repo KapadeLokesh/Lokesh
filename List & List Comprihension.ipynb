{
 "cells": [
  {
   "cell_type": "markdown",
   "id": "1ae56c3e-f926-4632-9411-05617ff9b098",
   "metadata": {},
   "source": [
    "**LIST**"
   ]
  },
  {
   "cell_type": "code",
   "execution_count": 1,
   "id": "741b5fc4-1cda-412e-9800-9d359d0ea594",
   "metadata": {},
   "outputs": [
    {
     "name": "stdout",
     "output_type": "stream",
     "text": [
      "Empty List: []\n"
     ]
    }
   ],
   "source": [
    "empty_list = []\n",
    "print(\"Empty List:\", empty_list)"
   ]
  },
  {
   "cell_type": "code",
   "execution_count": 3,
   "id": "7670e2b4-4839-46d1-a791-f408e60abff6",
   "metadata": {},
   "outputs": [
    {
     "name": "stdout",
     "output_type": "stream",
     "text": [
      "List of numbers: [10, 20, 30]\n"
     ]
    }
   ],
   "source": [
    "numbers = [10, 20, 30]\n",
    "print(\"List of numbers:\", numbers)"
   ]
  },
  {
   "cell_type": "code",
   "execution_count": 6,
   "id": "70d6c7c8-7536-4cc1-90ff-9bb205c569fe",
   "metadata": {},
   "outputs": [
    {
     "name": "stdout",
     "output_type": "stream",
     "text": [
      "List of strings: ['Loki', 'Baki', 'Hanma']\n"
     ]
    }
   ],
   "source": [
    "strings = [\"Loki\", \"Baki\", \"Hanma\"]\n",
    "print(\"List of strings:\", strings)"
   ]
  },
  {
   "cell_type": "code",
   "execution_count": 8,
   "id": "f1b16783-88eb-44a1-9bb6-d235be7023a4",
   "metadata": {},
   "outputs": [
    {
     "name": "stdout",
     "output_type": "stream",
     "text": [
      "Mixed List: [1, 'Python', 3.14]\n"
     ]
    }
   ],
   "source": [
    "mixed_list = [1, \"Python\", 3.14]\n",
    "print(\"Mixed List:\", mixed_list)"
   ]
  },
  {
   "cell_type": "code",
   "execution_count": 10,
   "id": "e6b91d81-67cc-4efc-8900-0ec6e1b55d0d",
   "metadata": {},
   "outputs": [
    {
     "name": "stdout",
     "output_type": "stream",
     "text": [
      "First element: Loki\n",
      "Second element: Baki\n",
      "Last element: Hanma\n",
      "Second last element: Baki\n"
     ]
    }
   ],
   "source": [
    "# Accessing elements using indexing\n",
    "print(\"First element:\", strings[0])\n",
    "print(\"Second element:\", strings[1])\n",
    "print(\"Last element:\", strings[-1])\n",
    "print(\"Second last element:\", strings[-2])"
   ]
  },
  {
   "cell_type": "code",
   "execution_count": 12,
   "id": "c2bde88d-36ce-4e7b-b938-734b50404830",
   "metadata": {},
   "outputs": [
    {
     "name": "stdout",
     "output_type": "stream",
     "text": [
      "After append: [10, 20, 30, 40]\n",
      "After insert: [10, 15, 20, 30, 40]\n",
      "After extend: [10, 15, 20, 30, 40, 50, 60]\n"
     ]
    }
   ],
   "source": [
    "numbers.append(40)\n",
    "print(\"After append:\", numbers)\n",
    "\n",
    "numbers.insert(1, 15)\n",
    "print(\"After insert:\", numbers)\n",
    "\n",
    "numbers.extend([50, 60])\n",
    "print(\"After extend:\", numbers)"
   ]
  },
  {
   "cell_type": "code",
   "execution_count": 14,
   "id": "db0d3caa-0290-4ea6-8720-63284c630c2f",
   "metadata": {},
   "outputs": [
    {
     "name": "stdout",
     "output_type": "stream",
     "text": [
      "After remove: [10, 15, 30, 40, 50, 60]\n",
      "After pop: [10, 15, 40, 50, 60]\n",
      "After clear: []\n"
     ]
    }
   ],
   "source": [
    "numbers.remove(20)\n",
    "print(\"After remove:\", numbers)\n",
    "\n",
    "numbers.pop(2)\n",
    "print(\"After pop:\", numbers)\n",
    "\n",
    "numbers.clear()\n",
    "print(\"After clear:\", numbers)"
   ]
  },
  {
   "cell_type": "code",
   "execution_count": 18,
   "id": "c718d26b-c314-4a59-b9fe-bbeef4a1a5ac",
   "metadata": {},
   "outputs": [
    {
     "name": "stdout",
     "output_type": "stream",
     "text": [
      "Length of list: 9\n",
      "Maximum value: 9\n",
      "Minimum value: 1\n",
      "Sum of elements: 45\n",
      "Sorted list: [1, 2, 3, 4, 5, 6, 7, 8, 9]\n"
     ]
    }
   ],
   "source": [
    "Num = [2,5,9,6,4,3,1,8,7]\n",
    "print(\"Length of list:\", len(Num))\n",
    "print(\"Maximum value:\", max(Num))\n",
    "print(\"Minimum value:\", min(Num))\n",
    "print(\"Sum of elements:\", sum(Num))\n",
    "print(\"Sorted list:\", sorted(Num))"
   ]
  },
  {
   "cell_type": "code",
   "execution_count": 26,
   "id": "9f9c0a3a-53cd-4b81-9b82-17ab8adfdc06",
   "metadata": {},
   "outputs": [
    {
     "name": "stdin",
     "output_type": "stream",
     "text": [
      "Please Enter List Elements:  136911\n"
     ]
    },
    {
     "name": "stdout",
     "output_type": "stream",
     "text": [
      "['1', '3', '6', '9', '1', '1']\n"
     ]
    }
   ],
   "source": [
    "list1 = list(input(\"Please Enter List Elements: \"))\n",
    "print(list1)"
   ]
  },
  {
   "cell_type": "code",
   "execution_count": 34,
   "id": "f2accf52-17cf-40c5-b6ea-6a67b4587d5a",
   "metadata": {},
   "outputs": [
    {
     "name": "stdout",
     "output_type": "stream",
     "text": [
      "[5, 2, 3, 4, 1]\n"
     ]
    }
   ],
   "source": [
    "list1 = [1, 2, 3, 4, 5]\n",
    "list1[0], list1[-1] = list1[-1], list1[0]\n",
    "print(list1)"
   ]
  },
  {
   "cell_type": "code",
   "execution_count": 36,
   "id": "71085109-447a-4df4-82ef-c4f3ecf86a89",
   "metadata": {},
   "outputs": [
    {
     "name": "stdout",
     "output_type": "stream",
     "text": [
      "5\n"
     ]
    }
   ],
   "source": [
    "a = [1, 2, 3, 4, 5]\n",
    "count = 0\n",
    "for val in a:\n",
    "    count += 1\n",
    "print(count)"
   ]
  },
  {
   "cell_type": "code",
   "execution_count": 38,
   "id": "22f9fbd5-f91f-4e40-be97-346ec5513e8f",
   "metadata": {},
   "outputs": [
    {
     "name": "stdout",
     "output_type": "stream",
     "text": [
      "4\n",
      "2\n"
     ]
    }
   ],
   "source": [
    "a = 2\n",
    "b = 4\n",
    "\n",
    "print(a if a >= b else b)\n",
    "print(a if a <= b else b)"
   ]
  },
  {
   "cell_type": "code",
   "execution_count": 42,
   "id": "e6bbeb3b-8d9c-42be-a812-6ba9cca816b4",
   "metadata": {},
   "outputs": [
    {
     "name": "stdout",
     "output_type": "stream",
     "text": [
      "Element exists in the list\n"
     ]
    }
   ],
   "source": [
    "a = [10, 20, 30, 40, 50]\n",
    "if 30 in a:\n",
    "    print(\"Element exists in the list\")\n",
    "else:\n",
    "    print(\"Element does not exist\")"
   ]
  },
  {
   "cell_type": "code",
   "execution_count": 50,
   "id": "812b30f3-888b-490e-a27b-b54b86af95fb",
   "metadata": {},
   "outputs": [
    {
     "name": "stdout",
     "output_type": "stream",
     "text": [
      "[50, 40, 30, 20, 10]\n",
      "[50, 40, 30, 20, 10]\n"
     ]
    }
   ],
   "source": [
    "a = [10, 20, 30, 40, 50]\n",
    "print(a[::-1])\n",
    "print(list(reversed(a)))"
   ]
  },
  {
   "cell_type": "code",
   "execution_count": 52,
   "id": "7c60c543-5074-4424-8476-ac2a834d389e",
   "metadata": {},
   "outputs": [
    {
     "name": "stdout",
     "output_type": "stream",
     "text": [
      "[10, 20, 30, 40, 50]\n",
      "[10, 20, 30, 40, 50]\n"
     ]
    }
   ],
   "source": [
    "a = [10, 20, 30, 40, 50]\n",
    "b = []\n",
    "for i in a:\n",
    "    b.append(i)\n",
    "print(a)\n",
    "print(b)"
   ]
  },
  {
   "cell_type": "code",
   "execution_count": 56,
   "id": "70ccf08a-c240-496f-a52d-25f16572ec81",
   "metadata": {},
   "outputs": [
    {
     "data": {
      "text/plain": [
       "4"
      ]
     },
     "execution_count": 56,
     "metadata": {},
     "output_type": "execute_result"
    }
   ],
   "source": [
    "def count_occurance(list1,n):\n",
    "    count = 0\n",
    "    for i in list1:\n",
    "        if i == n:\n",
    "            count+=1\n",
    "    return count\n",
    "\n",
    "a = [1, 3, 2, 6, 3, 2, 8, 2, 9, 2, 7, 3]\n",
    "count_occurance(a,2)"
   ]
  },
  {
   "cell_type": "code",
   "execution_count": 60,
   "id": "3417eecf-5896-4443-95e8-aa0b6301424a",
   "metadata": {},
   "outputs": [
    {
     "name": "stdout",
     "output_type": "stream",
     "text": [
      "15\n"
     ]
    }
   ],
   "source": [
    "a = [1, 2, 3, 4, 5]\n",
    "sum = 0\n",
    "for i in a:\n",
    "    sum = i + sum\n",
    "print(sum)"
   ]
  },
  {
   "cell_type": "code",
   "execution_count": 66,
   "id": "af5d9ec7-3008-49b4-8c5e-100fc8590410",
   "metadata": {},
   "outputs": [
    {
     "name": "stdout",
     "output_type": "stream",
     "text": [
      "4\n"
     ]
    }
   ],
   "source": [
    "a = [9,6,8,5,7,4]\n",
    "min = a[0]\n",
    "for i in a:\n",
    "    if i < min:\n",
    "        min = i\n",
    "print(min)"
   ]
  },
  {
   "cell_type": "code",
   "execution_count": 68,
   "id": "ed4a3c47-180a-4f69-8ab9-612fcc551080",
   "metadata": {},
   "outputs": [
    {
     "name": "stdout",
     "output_type": "stream",
     "text": [
      "9\n"
     ]
    }
   ],
   "source": [
    "a = [9,6,8,5,7,4]\n",
    "max = a[0]\n",
    "for i in a:\n",
    "    if i > max:\n",
    "        max = i\n",
    "print(max)"
   ]
  },
  {
   "cell_type": "code",
   "execution_count": 86,
   "id": "16667530-e531-4de1-9034-fd9e86b36f59",
   "metadata": {},
   "outputs": [
    {
     "name": "stdout",
     "output_type": "stream",
     "text": [
      "The second largest numb:  8\n"
     ]
    }
   ],
   "source": [
    "a = [9,6,8,5,7,4]\n",
    "def find_second_largest(numbers):\n",
    "    return sorted(set(numbers))[-2]\n",
    "print(\"The second largest numb: \",find_second_largest(a))"
   ]
  },
  {
   "cell_type": "code",
   "execution_count": 92,
   "id": "c4cf063f-77c4-4bbb-b1cc-61fa827c8238",
   "metadata": {},
   "outputs": [
    {
     "name": "stdout",
     "output_type": "stream",
     "text": [
      "[1, 3, 5, 7, 9]\n",
      "[2, 4, 6, 8, 10]\n"
     ]
    }
   ],
   "source": [
    "a = [1, 2, 3, 4, 5, 6, 7, 8, 9, 10]\n",
    "odd = []\n",
    "even = []\n",
    "for i in a:\n",
    "    if i % 2 == 0:\n",
    "        even.append(i)\n",
    "    else:\n",
    "        odd.append(i)\n",
    "\n",
    "print(odd)\n",
    "print(even)"
   ]
  },
  {
   "cell_type": "code",
   "execution_count": 1,
   "id": "ab11210f-92ad-43b2-aa30-d2ce55b052b4",
   "metadata": {},
   "outputs": [
    {
     "name": "stdout",
     "output_type": "stream",
     "text": [
      "2\n"
     ]
    }
   ],
   "source": [
    "def most_frequent(List):\n",
    "    counter = 0\n",
    "    num = List[0]\n",
    "    \n",
    "    for i in List:\n",
    "        curr_frequency = List.count(i)\n",
    "        if(curr_frequency> counter):\n",
    "            counter = curr_frequency\n",
    "            num = i\n",
    "\n",
    "    return num\n",
    "\n",
    "List = [2, 1, 2, 2, 1, 3]\n",
    "print(most_frequent(List))"
   ]
  },
  {
   "cell_type": "code",
   "execution_count": 3,
   "id": "c1b09e61-3c94-467e-9647-05da855102b6",
   "metadata": {},
   "outputs": [
    {
     "name": "stdout",
     "output_type": "stream",
     "text": [
      "[7, 9, 11, 13, 15]\n"
     ]
    }
   ],
   "source": [
    "list1 = [1,2,3,4,5]\n",
    "list2 = [6,7,8,9,10]\n",
    "res = [i + j for i, j in zip(list1,list2)]\n",
    "print(res)"
   ]
  },
  {
   "cell_type": "code",
   "execution_count": 5,
   "id": "c0d7d0bb-bfa7-4f92-bf5f-450ba6fe72b6",
   "metadata": {},
   "outputs": [
    {
     "name": "stdout",
     "output_type": "stream",
     "text": [
      "[1, 2, 3, 4, 5, 6]\n"
     ]
    }
   ],
   "source": [
    "a = [1, 2, 3]\n",
    "b = [4, 5, 6]\n",
    "a.extend(b)\n",
    "print(a)"
   ]
  },
  {
   "cell_type": "code",
   "execution_count": 13,
   "id": "d0c52f1d-2ba7-4763-866f-36b15da133bb",
   "metadata": {},
   "outputs": [
    {
     "name": "stdout",
     "output_type": "stream",
     "text": [
      "  hello loki have a good day\n"
     ]
    }
   ],
   "source": [
    "l = [ 'hello', 'loki', 'have', \n",
    "     'a', 'good', 'day']\n",
    "ans = ' '\n",
    "for i in l: \n",
    "  ans = ans+ ' '+ i\n",
    "print(ans)"
   ]
  },
  {
   "cell_type": "code",
   "execution_count": 15,
   "id": "6111e408-b181-43bf-b01b-c23ee66ab597",
   "metadata": {},
   "outputs": [
    {
     "name": "stdout",
     "output_type": "stream",
     "text": [
      "hello loki have a good day\n"
     ]
    }
   ],
   "source": [
    "l = [ 'hello', 'loki', 'have', \n",
    "     'a', 'good', 'day']\n",
    " \n",
    "res = \" \".join([str(item) for item in l])\n",
    "print(res)"
   ]
  },
  {
   "cell_type": "code",
   "execution_count": 23,
   "id": "a735e21f-8a3c-48f0-8e64-14061e505b7b",
   "metadata": {},
   "outputs": [
    {
     "name": "stdout",
     "output_type": "stream",
     "text": [
      "The original list is : ['a', 'b', 'c', 'd', 'e', 'f', 'g', 'h', 'i']\n",
      "The list after merging elements : ['a', 'b', 'c', 'd', 'e', 'fgh', 'i']\n"
     ]
    }
   ],
   "source": [
    "list1 = ['a','b','c','d','e','f','g','h','i']\n",
    "print (\"The original list is : \" + str(list1))\n",
    "list1[5 : 8] = [''.join(list1[5 : 8])]\n",
    "print (\"The list after merging elements : \" + str(list1))"
   ]
  },
  {
   "cell_type": "code",
   "execution_count": 25,
   "id": "dbc8e6ac-f60e-4ae7-a98c-4a9494b96d6b",
   "metadata": {},
   "outputs": [
    {
     "name": "stdout",
     "output_type": "stream",
     "text": [
      "['amy', 'rohan', 'sapna', 'aakash', 'raunak', 'chinmoy', 'muhammad']\n"
     ]
    }
   ],
   "source": [
    "def Sorting(lst):\n",
    "    lst2 = sorted(lst, key=len)\n",
    "    return lst2\n",
    "    \n",
    "lst = [\"rohan\", \"amy\", \"sapna\", \"muhammad\", \n",
    "       \"aakash\", \"raunak\", \"chinmoy\"]\n",
    "\n",
    "print(Sorting(lst))"
   ]
  },
  {
   "cell_type": "code",
   "execution_count": 27,
   "id": "17e2b301-b4b4-4039-ac11-493c3a041a61",
   "metadata": {},
   "outputs": [
    {
     "name": "stdout",
     "output_type": "stream",
     "text": [
      "True\n"
     ]
    }
   ],
   "source": [
    "a = [1,2,3]\n",
    "b = [1,2,3]\n",
    "x = all(x == y for x, y in zip(a, b))\n",
    "print(x)"
   ]
  },
  {
   "cell_type": "code",
   "execution_count": null,
   "id": "dc149439-d3d5-49ca-9978-5d859d23b5ce",
   "metadata": {},
   "outputs": [],
   "source": [
    "x = corpus.split(' ')\n",
    "print(x)\n",
    "\n",
    "cleaned_corpus = \" \".join(corpus.split())\n",
    "emails = re.findall(r'\\S+@\\S+\\.\\S+', corpus)\n",
    "sentences = corpus.split('.')\n",
    "word_count = len(corpus.split())"
   ]
  },
  {
   "cell_type": "code",
   "execution_count": 29,
   "id": "34d7be05-e50b-402a-9966-61f2681162dc",
   "metadata": {},
   "outputs": [
    {
     "name": "stdout",
     "output_type": "stream",
     "text": [
      "[4, 9, 16, 25]\n"
     ]
    }
   ],
   "source": [
    "a = [2,3,4,5]\n",
    "res = [val ** 2 for val in a]\n",
    "print(res)"
   ]
  },
  {
   "cell_type": "code",
   "execution_count": 31,
   "id": "77e18bed-aa70-4fb5-a010-9b75d4780f48",
   "metadata": {},
   "outputs": [
    {
     "name": "stdout",
     "output_type": "stream",
     "text": [
      "[[0, 1, 2, 3, 4], [0, 1, 2, 3, 4], [0, 1, 2, 3, 4], [0, 1, 2, 3, 4], [0, 1, 2, 3, 4]]\n"
     ]
    }
   ],
   "source": [
    "matrix = [[j for j in range(5)] for i in range(5)]\n",
    "print(matrix)"
   ]
  },
  {
   "cell_type": "code",
   "execution_count": 33,
   "id": "46244e97-1312-41b7-9859-dd0df9cc721f",
   "metadata": {},
   "outputs": [
    {
     "name": "stdout",
     "output_type": "stream",
     "text": [
      "[1, 9, 25, 49, 81]\n"
     ]
    }
   ],
   "source": [
    "odd_square = [x ** 2 for x in range(1, 11) if x % 2 == 1]  \n",
    "print (odd_square) "
   ]
  },
  {
   "cell_type": "code",
   "execution_count": 40,
   "id": "c357940c-fb4d-4f25-a4ce-8d0fd205af52",
   "metadata": {},
   "outputs": [
    {
     "name": "stdout",
     "output_type": "stream",
     "text": [
      "['apple', 'banana', 'mango']\n",
      "['banana', 'cherry', 'kiwi', 'mango']\n"
     ]
    }
   ],
   "source": [
    "fruits = [\"apple\", \"banana\", \"cherry\", \"kiwi\", \"mango\"]\n",
    "newlist = [x for x in fruits if \"a\" in x]\n",
    "newlist1 = [x for x in fruits if x != \"apple\"]\n",
    "print(newlist)\n",
    "print(newlist1)"
   ]
  },
  {
   "cell_type": "code",
   "execution_count": 38,
   "id": "d7c3c9a7-7afd-40a1-8942-e9098152ad47",
   "metadata": {},
   "outputs": [
    {
     "name": "stdout",
     "output_type": "stream",
     "text": [
      "Our lists are zip:  [(1, 6), (2, 7), (3, 8), (4, 9), (5, 10)]\n",
      "Our lists are unzip: \n",
      "(1, 2, 3, 4, 5)\n",
      "(6, 7, 8, 9, 10)\n"
     ]
    }
   ],
   "source": [
    "list1 = [1,2,3,4,5]\n",
    "list2 = [6,7,8,9,10]\n",
    "\n",
    "ziping = list(zip(list1,list2))\n",
    "print(\"Our lists are zip: \",ziping)\n",
    "\n",
    "unzipped = zip(*ziping)\n",
    "a,b = unzipped\n",
    "print(\"Our lists are unzip: \")\n",
    "print(a)\n",
    "print(b)"
   ]
  },
  {
   "cell_type": "code",
   "execution_count": 59,
   "id": "93393363-75a6-4a47-af39-a8d33e3f165e",
   "metadata": {},
   "outputs": [
    {
     "name": "stdout",
     "output_type": "stream",
     "text": [
      "['\\n\\nJohn', 'Doe', 'is', 'the', 'CEO', 'of', 'Tech', 'Solutions', 'Inc.', 'He', 'met', 'with', 'Mary', 'Jane', 'on', '12th', 'February', '2024.\\n\\nTheir', 'meeting', 'was', 'about', 'a', 'new', 'project,', 'and', 'John', 'discussed', 'the', 'future', 'of', 'the', \"industry.\\n\\nJohn's\", 'email', 'is', 'john.doe@techsolutions.com,', 'and', 'Mary', 'can', 'be', 'contacted', 'at', 'mary.jane@corporation.org.\\n\\nThe', 'meeting', 'will', 'continue', 'on', '25th', 'February', '2024', 'in', 'New', 'York.\\n\\n']\n",
      "['john.doe@techsolutions.com,', 'mary.jane@corporation.org.\\n\\nThe']\n"
     ]
    }
   ],
   "source": [
    "corpus = \"\"\"\n",
    "\n",
    "John Doe is the CEO of Tech Solutions Inc. He met with Mary Jane on 12th February 2024.\n",
    "\n",
    "Their meeting was about a new project, and John discussed the future of the industry.\n",
    "\n",
    "John's email is john.doe@techsolutions.com, and Mary can be contacted at mary.jane@corporation.org.\n",
    "\n",
    "The meeting will continue on 25th February 2024 in New York.\n",
    "\n",
    "\"\"\"\n",
    "\n",
    "# sentence = corpus.split('.')\n",
    "# print(sentence)\n",
    "\n",
    "words = corpus.split(' ')\n",
    "print(words)\n",
    "\n",
    "e = []\n",
    "for i in words:\n",
    "    if \"@\" in i:\n",
    "        e.append(i)\n",
    "    \n",
    "print(e)\n",
    "\n"
   ]
  },
  {
   "cell_type": "code",
   "execution_count": null,
   "id": "ae2fabb3-7ce0-406e-ae90-79280c867421",
   "metadata": {},
   "outputs": [],
   "source": [
    "# NLTK: "
   ]
  },
  {
   "cell_type": "code",
   "execution_count": 71,
   "id": "86a4d0ea-683b-4392-b9f4-a9e120a0c90d",
   "metadata": {},
   "outputs": [
    {
     "name": "stdout",
     "output_type": "stream",
     "text": [
      "Names: ['John Doe', 'Tech Solutions', 'Mary Jane', 'New York']\n",
      "Emails: ['john.doe@techsolutions.com', 'mary.jane@corporation.org']\n",
      "Numbers: ['2024', '2024']\n"
     ]
    }
   ],
   "source": [
    "import re\n",
    "corpus = \"\"\"\n",
    "John Doe is the CEO of Tech Solutions Inc. He met with Mary Jane on 12th February 2024.\n",
    "\n",
    "Their meeting was about a new project, and John discussed the future of the industry.\n",
    "\n",
    "John's email is john.doe@techsolutions.com, and Mary can be contacted at mary.jane@corporation.org.\n",
    "\n",
    "The meeting will continue on 25th February 2024 in New York.\n",
    "\"\"\"\n",
    "\n",
    "name_pattern = r'\\b([A-Z][a-z]+ [A-Z][a-z]+)\\b'\n",
    "\n",
    "email_pattern = r'\\b[A-Za-z0-9._%+-]+@[A-Za-z0-9.-]+\\.[A-Z|a-z]{2,7}\\b'\n",
    "\n",
    "numbers  = r'\\b\\d+\\b'\n",
    "\n",
    "names = re.findall(name_pattern, corpus)\n",
    "emails = re.findall(email_pattern, corpus)\n",
    "numbers = re.findall(numbers, corpus)\n",
    "\n",
    "print(\"Names:\", names)\n",
    "print(\"Emails:\", emails)\n",
    "print(\"Numbers:\", numbers)\n"
   ]
  },
  {
   "cell_type": "code",
   "execution_count": 73,
   "id": "f134d1ac-f4f2-4f04-9e1c-3c52089d2505",
   "metadata": {},
   "outputs": [
    {
     "name": "stdout",
     "output_type": "stream",
     "text": [
      "Names: ['Barack Obama', 'Michelle Obama', 'New York']\n"
     ]
    }
   ],
   "source": [
    "import re\n",
    "\n",
    "# The sentence\n",
    "sentence = \"Barack Obama and Michelle Obama visited New York last week.\"\n",
    "\n",
    "# Regular expression to match names (capitalized first and last names)\n",
    "name_pattern = r'\\b([A-Z][a-z]+ [A-Z][a-z]+)\\b'\n",
    "\n",
    "# Extract names using regex\n",
    "names = re.findall(name_pattern, sentence)\n",
    "\n",
    "# Output the results\n",
    "print(\"Names:\", names)\n"
   ]
  },
  {
   "cell_type": "code",
   "execution_count": 5,
   "id": "3ffab543-e1e1-421d-b1e1-240fa6359d13",
   "metadata": {},
   "outputs": [
    {
     "name": "stdout",
     "output_type": "stream",
     "text": [
      "Extracted names: ['Barack', 'Michelle Obama']\n"
     ]
    }
   ],
   "source": [
    "import nltk\n",
    "\n",
    "from nltk import ne_chunk, pos_tag, word_tokenize\n",
    "sentence = \"Barack Obama and Michelle Obama visited New York last week.\"\n",
    "\n",
    "tokens = word_tokenize(sentence)\n",
    "pos_tags = pos_tag(tokens)\n",
    "named_entities = ne_chunk(pos_tags)\n",
    "\n",
    "names = []\n",
    "for subtree in named_entities:\n",
    "    if isinstance(subtree, nltk.Tree) and subtree.label() == 'PERSON':\n",
    "        name = \" \".join([token for token, pos in subtree.leaves()])\n",
    "        names.append(name)\n",
    "\n",
    "print(\"Extracted names:\", names)"
   ]
  },
  {
   "cell_type": "code",
   "execution_count": 33,
   "id": "93b04caa-d833-4e34-877f-f648bec62d09",
   "metadata": {},
   "outputs": [
    {
     "name": "stdout",
     "output_type": "stream",
     "text": [
      "Asgard\n",
      "LOKI\n",
      "God\n",
      "Mischief\n"
     ]
    }
   ],
   "source": [
    "# A Set in Python programming is an unordered collection data type that is iterable and has no duplicate elements.\n",
    "test_set = set([\"LOKI\",\"God\",\"Mischief\"])\n",
    "test_set.add(\"Asgard\")\n",
    "\n",
    "for val in test_set:\n",
    "    print(val)"
   ]
  },
  {
   "cell_type": "code",
   "execution_count": 37,
   "id": "25c79124-4112-44ce-8602-fc0578592995",
   "metadata": {},
   "outputs": [
    {
     "name": "stdout",
     "output_type": "stream",
     "text": [
      "{'is', 'God', 'Loki'}\n",
      "is\n",
      "God\n",
      "Loki\n"
     ]
    }
   ],
   "source": [
    "set1={\"Loki\",\"is\",\"God\"}\n",
    "print(set1)\n",
    "for val in set1:\n",
    "    print(val)"
   ]
  },
  {
   "cell_type": "code",
   "execution_count": 45,
   "id": "aded3f9f-eff6-4c7a-89bc-cacd0709813f",
   "metadata": {},
   "outputs": [
    {
     "ename": "TypeError",
     "evalue": "'set' object is not subscriptable",
     "output_type": "error",
     "traceback": [
      "\u001b[1;31m---------------------------------------------------------------------------\u001b[0m",
      "\u001b[1;31mTypeError\u001b[0m                                 Traceback (most recent call last)",
      "Cell \u001b[1;32mIn[45], line 4\u001b[0m\n\u001b[0;32m      1\u001b[0m \u001b[38;5;66;03m# no indexing\u001b[39;00m\n\u001b[0;32m      2\u001b[0m \u001b[38;5;66;03m# attention all you need\u001b[39;00m\n\u001b[0;32m      3\u001b[0m set1\u001b[38;5;241m=\u001b[39m{\u001b[38;5;124m\"\u001b[39m\u001b[38;5;124mLoki\u001b[39m\u001b[38;5;124m\"\u001b[39m,\u001b[38;5;124m\"\u001b[39m\u001b[38;5;124mis\u001b[39m\u001b[38;5;124m\"\u001b[39m,\u001b[38;5;124m\"\u001b[39m\u001b[38;5;124mGod\u001b[39m\u001b[38;5;124m\"\u001b[39m} \n\u001b[1;32m----> 4\u001b[0m \u001b[38;5;28mprint\u001b[39m(set1[\u001b[38;5;241m1\u001b[39m])\n",
      "\u001b[1;31mTypeError\u001b[0m: 'set' object is not subscriptable"
     ]
    }
   ],
   "source": [
    "# no indexing\n",
    "\n",
    "set1={\"Loki\",\"is\",\"God\"} \n",
    "print(set1[1])"
   ]
  },
  {
   "cell_type": "code",
   "execution_count": null,
   "id": "7b324bf6-41a4-4490-86f9-581665bc6e74",
   "metadata": {},
   "outputs": [],
   "source": []
  },
  {
   "cell_type": "code",
   "execution_count": null,
   "id": "3fa1a13c-878a-4d64-b181-5311a84648f9",
   "metadata": {},
   "outputs": [],
   "source": []
  }
 ],
 "metadata": {
  "kernelspec": {
   "display_name": "Python 3 (ipykernel)",
   "language": "python",
   "name": "python3"
  },
  "language_info": {
   "codemirror_mode": {
    "name": "ipython",
    "version": 3
   },
   "file_extension": ".py",
   "mimetype": "text/x-python",
   "name": "python",
   "nbconvert_exporter": "python",
   "pygments_lexer": "ipython3",
   "version": "3.12.4"
  }
 },
 "nbformat": 4,
 "nbformat_minor": 5
}
