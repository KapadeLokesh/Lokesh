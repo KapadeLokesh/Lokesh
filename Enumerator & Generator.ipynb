{
 "cells": [
  {
   "cell_type": "markdown",
   "id": "8acf726c-ff98-49ab-a5f2-1c709029af4d",
   "metadata": {},
   "source": [
    "**Enumerate**\n",
    "- The enumerate function is used to iterate over a list (or any iterable) and retrieve both the index and the value of each item."
   ]
  },
  {
   "cell_type": "code",
   "execution_count": 2,
   "id": "59dd2cfc-318e-4dba-a435-7d82c4489a53",
   "metadata": {},
   "outputs": [
    {
     "name": "stdout",
     "output_type": "stream",
     "text": [
      "Index: 0, Value: apple\n",
      "Index: 1, Value: banana\n",
      "Index: 2, Value: cherry\n"
     ]
    }
   ],
   "source": [
    "my_list = ['apple', 'banana', 'cherry']\n",
    "\n",
    "for index, value in enumerate(my_list):\n",
    "    print(f\"Index: {index}, Value: {value}\")"
   ]
  },
  {
   "cell_type": "code",
   "execution_count": 12,
   "id": "5dfa7b57-88cd-41cf-bf4a-8e5044476535",
   "metadata": {},
   "outputs": [
    {
     "name": "stdout",
     "output_type": "stream",
     "text": [
      "Return type: <class 'enumerate'>\n",
      "[(0, 'eat'), (1, 'sleep'), (2, 'repeat')]\n",
      "[(1, 'L'), (2, 'o'), (3, 'k'), (4, 'i')]\n"
     ]
    }
   ],
   "source": [
    "l1 = [\"eat\", \"sleep\", \"repeat\"]\n",
    "s1 = \"Loki\"\n",
    "\n",
    "# creating enumerate objects\n",
    "obj1 = enumerate(l1)\n",
    "obj2 = enumerate(s1)\n",
    "\n",
    "print (\"Return type:\", type(obj1))\n",
    "print (list(enumerate(l1)))\n",
    "\n",
    "# changing start index to 1 from 0\n",
    "print (list(enumerate(s1, start = 1)))"
   ]
  },
  {
   "cell_type": "code",
   "execution_count": 34,
   "id": "964caf1d-b4e5-4838-b5b9-3ae539ae81c8",
   "metadata": {},
   "outputs": [
    {
     "name": "stdout",
     "output_type": "stream",
     "text": [
      "###########################\n",
      "(0, 'Loki')\n",
      "(1, 'Thor')\n",
      "(2, 'Odin')\n",
      "###########################\n",
      "101 Loki\n",
      "102 Thor\n",
      "103 Odin\n",
      "###########################\n",
      "0\n",
      "Loki\n",
      "1\n",
      "Thor\n",
      "2\n",
      "Odin\n"
     ]
    }
   ],
   "source": [
    "list1 = [\"Loki\",\"Thor\",\"Odin\"]\n",
    "print(\"###########################\")\n",
    "for i in enumerate(list1):\n",
    "    print(i)\n",
    "print(\"###########################\")\n",
    "for i,j in enumerate(list1,101):\n",
    "    print(i,j)\n",
    "print(\"###########################\")\n",
    "for i,j in enumerate(list1):\n",
    "    print(i)\n",
    "    print(j)"
   ]
  },
  {
   "cell_type": "code",
   "execution_count": 40,
   "id": "a1c3e1b9-1983-4317-bd2d-afd43fa8fe56",
   "metadata": {},
   "outputs": [
    {
     "name": "stdout",
     "output_type": "stream",
     "text": [
      "Next Element: (0, 'apple')\n",
      "Next Element: (1, 'banana')\n"
     ]
    }
   ],
   "source": [
    "\"\"\"To access the next element in an enumerate object, you can use the next() function. \n",
    "It takes the enumerate object as input and returns the next value in the iteration.\"\"\"\n",
    "\n",
    "fruits = ['apple', 'banana', 'cherry']\n",
    "enum_fruits = enumerate(fruits)\n",
    "\n",
    "next_element = next(enum_fruits)\n",
    "print(f\"Next Element: {next_element}\")\n",
    "next_element = next(enum_fruits)\n",
    "print(f\"Next Element: {next_element}\")"
   ]
  },
  {
   "cell_type": "code",
   "execution_count": 42,
   "id": "55ff32cb-e406-4dc7-b78b-d6eecbe7f4df",
   "metadata": {},
   "outputs": [
    {
     "name": "stdout",
     "output_type": "stream",
     "text": [
      "Extra verbose output for: Test User\n",
      "Real User 1\n",
      "Real User 2\n"
     ]
    }
   ],
   "source": [
    "users = [\"Test User\", \"Real User 1\", \"Real User 2\"]\n",
    "for index, user in enumerate(users):\n",
    "    if index == 0:\n",
    "        print(\"Extra verbose output for:\", user)\n",
    "    else:\n",
    "        print(user)"
   ]
  },
  {
   "cell_type": "code",
   "execution_count": 60,
   "id": "fd01cf87-9452-4285-aa59-3ed6ff7f7062",
   "metadata": {},
   "outputs": [
    {
     "data": {
      "text/plain": [
       "['Baki', 'Daki', 'Gaki']"
      ]
     },
     "execution_count": 60,
     "metadata": {},
     "output_type": "execute_result"
    }
   ],
   "source": [
    "def even_items(iterable):\n",
    "    \"\"\"Return items from ``iterable`` when their index is even.\"\"\"\n",
    "    values = []\n",
    "    for i, value in enumerate(iterable, start=1):\n",
    "        if not i % 2:\n",
    "            values.append(value)\n",
    "    return values\n",
    "iterable = [\"Loki\",\"Baki\",\"Saki\",\"Daki\",\"Haki\",\"Gaki\"]\n",
    "even_items(iterable)"
   ]
  },
  {
   "cell_type": "code",
   "execution_count": 75,
   "id": "91df04cd-cb67-4f0e-8a59-5074060e4b38",
   "metadata": {},
   "outputs": [
    {
     "name": "stdout",
     "output_type": "stream",
     "text": [
      "Sum is : 17\n"
     ]
    }
   ],
   "source": [
    "num_list = [4, 5, 3, 2, 11, 10, 33]\n",
    "\n",
    "total_sum = 0\n",
    "for counter, value in enumerate(num_list, start=1):\n",
    "    if counter % 2 == 0:\n",
    "        total_sum += value\n",
    "\n",
    "print(\"Sum is :\", total_sum)"
   ]
  },
  {
   "cell_type": "code",
   "execution_count": 79,
   "id": "62b4974d-9136-4a51-b37e-537d6651bf8b",
   "metadata": {},
   "outputs": [
    {
     "name": "stdout",
     "output_type": "stream",
     "text": [
      "0 Python\n",
      "1 C++\n",
      "2 JAVA\n",
      "3 JavaScript\n"
     ]
    }
   ],
   "source": [
    "language_list = ('Python', 'C++', 'JAVA', 'JavaScript')\n",
    "res = enumerate(language_list)\n",
    "\n",
    "for counter, language in res:\n",
    "    print(counter, language)"
   ]
  },
  {
   "cell_type": "code",
   "execution_count": 85,
   "id": "ab4b0022-445c-466e-ab6f-3a36670785f0",
   "metadata": {},
   "outputs": [
    {
     "name": "stdout",
     "output_type": "stream",
     "text": [
      "0 a\n",
      "1 b\n",
      "2 c\n",
      "3 d\n",
      "4 e\n"
     ]
    }
   ],
   "source": [
    "user_string = \"abcde\"\n",
    "\n",
    "res = enumerate(user_string)\n",
    "for counter, character in res:\n",
    "    print(counter, character)"
   ]
  },
  {
   "cell_type": "code",
   "execution_count": null,
   "id": "1eccbf03-578e-41c1-a9e1-328e319a207e",
   "metadata": {},
   "outputs": [],
   "source": []
  },
  {
   "cell_type": "markdown",
   "id": "27dc20c4-7858-426f-84be-9712a77f4764",
   "metadata": {},
   "source": [
    "**Generator**\n",
    "\n",
    "- Generators: Generators are iterators, a kind of iterable we can only iterate over once. Generators do not store all the values in memory, they generate the values on the fly.\r\n",
    "- \r\n",
    "Yield: yield is a keyword that is used like return, except the function will return a generator."
   ]
  },
  {
   "cell_type": "code",
   "execution_count": 1,
   "id": "5c2676b6-1b77-4b18-bb4c-a2627ece2b58",
   "metadata": {},
   "outputs": [
    {
     "name": "stdin",
     "output_type": "stream",
     "text": [
      "Input a number:  5\n"
     ]
    },
    {
     "name": "stdout",
     "output_type": "stream",
     "text": [
      "Cubes of numbers from 1 to 5\n",
      "1\n",
      "8\n",
      "27\n",
      "64\n",
      "125\n"
     ]
    }
   ],
   "source": [
    "# Cubes of numbers\n",
    "def cube_generator(n):\n",
    "    for i in range(1, n + 1):\n",
    "        yield i ** 3\n",
    "        \n",
    "n = int(input(\"Input a number: \"))\n",
    "\n",
    "cubes = cube_generator(n)\n",
    "\n",
    "print(\"Cubes of numbers from 1 to\", n)\n",
    "for num in cubes:\n",
    "    print(num)\n"
   ]
  },
  {
   "cell_type": "code",
   "execution_count": 11,
   "id": "27abe716-1661-4938-ab08-2cd3c51eb5ee",
   "metadata": {},
   "outputs": [
    {
     "name": "stdin",
     "output_type": "stream",
     "text": [
      "Input the start value:  0\n",
      "Input the end value:  100\n"
     ]
    },
    {
     "name": "stdout",
     "output_type": "stream",
     "text": [
      "Random numbers between 0 and 100\n",
      "98\n",
      "25\n",
      "39\n",
      "16\n",
      "14\n",
      "42\n",
      "39\n",
      "58\n",
      "33\n",
      "59\n"
     ]
    }
   ],
   "source": [
    "# Generate random Numbers\n",
    "import random\n",
    "\n",
    "def random_number_generator(start, end):\n",
    "    while True:\n",
    "        yield random.randint(start, end)\n",
    "\n",
    "start = int(input(\"Input the start value: \"))\n",
    "end = int(input(\"Input the end value: \"))\n",
    "\n",
    "random_numbers = random_number_generator(start, end)\n",
    "\n",
    "print(\"Random numbers between\",start,\"and\",end)\n",
    "for i in range(10):\n",
    "    print(next(random_numbers)) # why we use next and not just print\n"
   ]
  },
  {
   "cell_type": "code",
   "execution_count": 9,
   "id": "c1d2ac80-5e65-4768-91c3-92a4aada8090",
   "metadata": {},
   "outputs": [
    {
     "name": "stdin",
     "output_type": "stream",
     "text": [
      "Input the number of prime numbers you want to generate?  5\n"
     ]
    },
    {
     "name": "stdout",
     "output_type": "stream",
     "text": [
      "First 5 Prime numbers:\n",
      "2\n",
      "3\n",
      "5\n",
      "7\n",
      "11\n"
     ]
    }
   ],
   "source": [
    "# Prime numbers\n",
    "def is_prime(n):\n",
    "    if n <= 1:\n",
    "        return False\n",
    "    for i in range(2, int(n**0.5) + 1):\n",
    "        if n % i == 0:\n",
    "            return False\n",
    "    return True\n",
    "\n",
    "def prime_nums_generator():\n",
    "    n = 2\n",
    "    while True:\n",
    "        if is_prime(n):\n",
    "            yield n\n",
    "        n += 1\n",
    "\n",
    "primes = prime_nums_generator()\n",
    "n = int(input(\"Input the number of prime numbers you want to generate? \"))\n",
    "print(\"First\",n,\"Prime numbers:\")\n",
    "for _ in range(n):\n",
    "    print(next(primes))\n"
   ]
  },
  {
   "cell_type": "code",
   "execution_count": 13,
   "id": "cfc89be3-0c67-465f-a941-9e9315b04666",
   "metadata": {},
   "outputs": [
    {
     "name": "stdin",
     "output_type": "stream",
     "text": [
      "Input the number of Fibonacci numbers you want to generate?  10\n"
     ]
    },
    {
     "name": "stdout",
     "output_type": "stream",
     "text": [
      "Number of first  10 Fibonacci numbers:\n",
      "0 1 1 2 3 5 8 13 21 34 "
     ]
    }
   ],
   "source": [
    "def fibonacci():\n",
    "    x, y = 0, 1\n",
    "    while True:\n",
    "        yield x\n",
    "        x, y = y, x + y\n",
    "        \n",
    "n = int(input(\"Input the number of Fibonacci numbers you want to generate? \"))\n",
    "\n",
    "print(\"Number of first \",n,\"Fibonacci numbers:\")\n",
    "fib = fibonacci()\n",
    "for i in range(n):\n",
    "    print(next(fib),end=\" \")"
   ]
  },
  {
   "cell_type": "code",
   "execution_count": 18,
   "id": "190db612-7657-4370-aa59-348c24748aa6",
   "metadata": {},
   "outputs": [
    {
     "name": "stdin",
     "output_type": "stream",
     "text": [
      "Input a positive integer (n):  10\n"
     ]
    },
    {
     "name": "stdout",
     "output_type": "stream",
     "text": [
      "Collatz sequence:\n",
      "10, 5, 16, 8, 4, 2, 1, "
     ]
    }
   ],
   "source": [
    "def collatz_sequence(n):\n",
    "    while n != 1:\n",
    "        yield n\n",
    "        if n % 2 == 0:\n",
    "            n = n // 2\n",
    "        else:\n",
    "            n = 3 * n + 1\n",
    "    yield 1\n",
    "\n",
    "n = int(input(\"Input a positive integer (n): \"))\n",
    "\n",
    "print(\"Collatz sequence:\")\n",
    "for num in collatz_sequence(n):\n",
    "    print(num, end=\", \")\n"
   ]
  },
  {
   "cell_type": "code",
   "execution_count": 22,
   "id": "338e9211-200d-4d6b-9b28-f6ebcea9e3bf",
   "metadata": {},
   "outputs": [
    {
     "name": "stdin",
     "output_type": "stream",
     "text": [
      "Input a number:  1234\n"
     ]
    },
    {
     "name": "stdout",
     "output_type": "stream",
     "text": [
      "Next palindrome number after 1234 is: 1331\n"
     ]
    }
   ],
   "source": [
    "def is_palindrome(n):\n",
    "    return str(n) == str(n)[::-1]\n",
    "\n",
    "def next_palindrome(start):\n",
    "    num = start + 1\n",
    "    while True:\n",
    "        if is_palindrome(num):\n",
    "            yield num\n",
    "        num += 1\n",
    "\n",
    "n = int(input(\"Input a number: \"))\n",
    "\n",
    "palindrome_gen = next_palindrome(n)\n",
    "\n",
    "next_palindrome_num = next(palindrome_gen)\n",
    "print(\"Next palindrome number after\", n, \"is:\", next_palindrome_num)"
   ]
  },
  {
   "cell_type": "code",
   "execution_count": 24,
   "id": "f608b04a-0b45-4cf5-945e-4dfb08c3aee1",
   "metadata": {},
   "outputs": [
    {
     "name": "stdin",
     "output_type": "stream",
     "text": [
      "Input a number:  3\n"
     ]
    },
    {
     "name": "stdout",
     "output_type": "stream",
     "text": [
      "Square roots and cube roots of numbers from 1 to 3\n",
      "Number: 1\n",
      "Square root: 1.0\n",
      "Cube root: 1.0\n",
      "\n",
      "Number: 2\n",
      "Square root: 1.4142135623730951\n",
      "Cube root: 1.2599210498948732\n",
      "\n",
      "Number: 3\n",
      "Square root: 1.7320508075688772\n",
      "Cube root: 1.4422495703074083\n",
      "\n"
     ]
    }
   ],
   "source": [
    "import math\n",
    "\n",
    "def roots_generator(n):\n",
    "    for i in range(1, n+1):\n",
    "        yield math.sqrt(i), i**(1/3)\n",
    "\n",
    "n = int(input(\"Input a number: \"))\n",
    "\n",
    "roots_gen = roots_generator(n)\n",
    "\n",
    "print(\"Square roots and cube roots of numbers from 1 to\", n)\n",
    "for i, (square_root, cube_root) in enumerate(roots_gen, start=1):\n",
    "    print(\"Number:\", i)\n",
    "    print(\"Square root:\", square_root)\n",
    "    print(\"Cube root:\", cube_root)\n",
    "    print()\n"
   ]
  },
  {
   "cell_type": "code",
   "execution_count": null,
   "id": "b256c970-e1d4-42de-a13a-9f48829f55af",
   "metadata": {},
   "outputs": [],
   "source": []
  },
  {
   "cell_type": "code",
   "execution_count": null,
   "id": "0caeaa24-5505-4a81-9dfb-02f45eb31f27",
   "metadata": {},
   "outputs": [],
   "source": []
  }
 ],
 "metadata": {
  "kernelspec": {
   "display_name": "Python 3 (ipykernel)",
   "language": "python",
   "name": "python3"
  },
  "language_info": {
   "codemirror_mode": {
    "name": "ipython",
    "version": 3
   },
   "file_extension": ".py",
   "mimetype": "text/x-python",
   "name": "python",
   "nbconvert_exporter": "python",
   "pygments_lexer": "ipython3",
   "version": "3.12.4"
  }
 },
 "nbformat": 4,
 "nbformat_minor": 5
}
