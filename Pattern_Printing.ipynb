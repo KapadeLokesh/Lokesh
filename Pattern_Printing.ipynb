{
 "cells": [
  {
   "cell_type": "markdown",
   "id": "4c4aa918-30ad-4bba-bce5-6756a46f05ee",
   "metadata": {},
   "source": [
    "**NUMBER PATTERN**"
   ]
  },
  {
   "cell_type": "code",
   "execution_count": null,
   "id": "0d2fa06e-3328-4bc2-856b-8b58d89ac5b5",
   "metadata": {},
   "outputs": [],
   "source": [
    "# r=int(input())\n",
    "# for i in range():\n",
    "#     for j in range():\n",
    "#         print('*',end=' ')\n",
    "#     print('')"
   ]
  },
  {
   "cell_type": "code",
   "execution_count": 11,
   "id": "599ce775-843f-4aac-bd28-051a8ca9d0cd",
   "metadata": {},
   "outputs": [
    {
     "name": "stdin",
     "output_type": "stream",
     "text": [
      " 5\n"
     ]
    },
    {
     "name": "stdout",
     "output_type": "stream",
     "text": [
      "\n",
      "1 \n",
      "2 2 \n",
      "3 3 3 \n",
      "4 4 4 4 \n",
      "5 5 5 5 5 \n"
     ]
    }
   ],
   "source": [
    "r=int(input())\n",
    "for i in range(r+1):\n",
    "    for j in range(i):\n",
    "        print(i,end=' ')\n",
    "    print('')"
   ]
  },
  {
   "cell_type": "code",
   "execution_count": 71,
   "id": "0dfe6adb-f4eb-479c-8763-fc894b17e0ec",
   "metadata": {},
   "outputs": [
    {
     "name": "stdin",
     "output_type": "stream",
     "text": [
      " 5\n"
     ]
    },
    {
     "name": "stdout",
     "output_type": "stream",
     "text": [
      "        1 \n",
      "      * 2 * \n",
      "    * * 3 * * \n",
      "  * * * 4 * * * \n",
      "* * * * 5 * * * * \n"
     ]
    }
   ],
   "source": [
    "r=int(input())\n",
    "for i in range(1,r+1):\n",
    "    for j in range(r-i):\n",
    "        print(' ',end=' ') \n",
    "        \n",
    "    for j in range(1,i+1):\n",
    "        if i==j:\n",
    "            print(j,end=' ')\n",
    "        else:\n",
    "            print('*',end=' ')\n",
    "            \n",
    "    for j in range(i-1):\n",
    "        print('*',end=' ')\n",
    "    print('')"
   ]
  },
  {
   "cell_type": "code",
   "execution_count": 86,
   "id": "8ebe06fe-4003-4b1d-90f3-a159083e4f3c",
   "metadata": {},
   "outputs": [
    {
     "name": "stdin",
     "output_type": "stream",
     "text": [
      " 5\n"
     ]
    },
    {
     "name": "stdout",
     "output_type": "stream",
     "text": [
      "\n",
      "1 \n",
      "1 2 \n",
      "1 2 3 \n",
      "1 2 3 4 \n",
      "1 2 3 4 5 \n"
     ]
    }
   ],
   "source": [
    "r=int(input())\n",
    "for i in range(r+1):\n",
    "    for j in range(1,i+1):\n",
    "        print(j,end=' ')\n",
    "    print('')"
   ]
  },
  {
   "cell_type": "code",
   "execution_count": 106,
   "id": "83d28231-eb1d-4f17-9835-81f5e95ee3dd",
   "metadata": {},
   "outputs": [
    {
     "name": "stdin",
     "output_type": "stream",
     "text": [
      " 5\n"
     ]
    },
    {
     "name": "stdout",
     "output_type": "stream",
     "text": [
      "1 2 3 4 5 \n",
      "1 2 3 4 \n",
      "1 2 3 \n",
      "1 2 \n",
      "1 \n"
     ]
    }
   ],
   "source": [
    "r=int(input())\n",
    "for i in range(r,0,-1):\n",
    "    for j in range(1,i+1):\n",
    "        print(j,end=' ')\n",
    "    print('')"
   ]
  },
  {
   "cell_type": "code",
   "execution_count": 100,
   "id": "111ccde0-9dce-46ec-91bd-52c1265e2d59",
   "metadata": {},
   "outputs": [
    {
     "name": "stdin",
     "output_type": "stream",
     "text": [
      " 5\n"
     ]
    },
    {
     "name": "stdout",
     "output_type": "stream",
     "text": [
      "1 1 1 1 1  \n",
      "2 2 2 2  \n",
      "3 3 3  \n",
      "4 4  \n",
      "5  \n"
     ]
    }
   ],
   "source": [
    "r=int(input())\n",
    "cur=0\n",
    "for i in range(r,0,-1):\n",
    "    cur+=1\n",
    "    for j in range(i):\n",
    "        print(cur,end=' ')\n",
    "    print(' ')"
   ]
  },
  {
   "cell_type": "code",
   "execution_count": 102,
   "id": "71a3cd21-9938-412f-8782-bb5f29598048",
   "metadata": {},
   "outputs": [
    {
     "name": "stdin",
     "output_type": "stream",
     "text": [
      " 5\n"
     ]
    },
    {
     "name": "stdout",
     "output_type": "stream",
     "text": [
      "5 5 5 5 5  \n",
      "5 5 5 5  \n",
      "5 5 5  \n",
      "5 5  \n",
      "5  \n"
     ]
    }
   ],
   "source": [
    "r=int(input())\n",
    "cur=5\n",
    "for i in range(r,0,-1):\n",
    "   \n",
    "    for j in range(i):\n",
    "        print(cur,end=' ')\n",
    "    print(' ')"
   ]
  },
  {
   "cell_type": "code",
   "execution_count": 110,
   "id": "153961b0-621c-476f-b362-02cbface942d",
   "metadata": {},
   "outputs": [
    {
     "name": "stdin",
     "output_type": "stream",
     "text": [
      " 5\n"
     ]
    },
    {
     "name": "stdout",
     "output_type": "stream",
     "text": [
      "0 1 2 3 4 5 \n",
      "0 1 2 3 4 \n",
      "0 1 2 3 \n",
      "0 1 2 \n",
      "0 1 \n"
     ]
    }
   ],
   "source": [
    "r=int(input())\n",
    "for i in range(r,0,-1):\n",
    "    for j in range(0,i+1):\n",
    "        print(j,end=' ')\n",
    "    print('')"
   ]
  },
  {
   "cell_type": "code",
   "execution_count": 152,
   "id": "7773c990-748b-4b6f-a21c-9f9c48445f6c",
   "metadata": {},
   "outputs": [
    {
     "name": "stdin",
     "output_type": "stream",
     "text": [
      " 9\n"
     ]
    },
    {
     "name": "stdout",
     "output_type": "stream",
     "text": [
      "1 \n",
      "3 3 \n",
      "5 5 5 \n",
      "7 7 7 7 \n",
      "9 9 9 9 9 \n"
     ]
    }
   ],
   "source": [
    "r=int(input())\n",
    "for i in range(1,r+1,2):\n",
    "    for j in range(i//2+1):\n",
    "            print(i,end=' ')\n",
    "    print('')"
   ]
  },
  {
   "cell_type": "code",
   "execution_count": 158,
   "id": "b8ce60d4-b0b9-4bfa-ab84-9b4066dacf12",
   "metadata": {},
   "outputs": [
    {
     "name": "stdin",
     "output_type": "stream",
     "text": [
      " 5\n"
     ]
    },
    {
     "name": "stdout",
     "output_type": "stream",
     "text": [
      "5 5 5 5 5 \n",
      "4 4 4 4 \n",
      "3 3 3 \n",
      "2 2 \n",
      "1 \n"
     ]
    }
   ],
   "source": [
    "r=int(input())\n",
    "for i in range(r,0,-1):\n",
    "    for j in range(0,i):\n",
    "        print(i,end=' ')\n",
    "    print('')"
   ]
  },
  {
   "cell_type": "code",
   "execution_count": 172,
   "id": "9c5ffd7a-daf4-4f27-a326-1cd2cea95bdc",
   "metadata": {},
   "outputs": [
    {
     "name": "stdin",
     "output_type": "stream",
     "text": [
      " 5\n"
     ]
    },
    {
     "name": "stdout",
     "output_type": "stream",
     "text": [
      "1 \n",
      "2 2 \n",
      "3 3 3 \n",
      "4 4 4 4 \n",
      "5 5 5 5 5 \n"
     ]
    }
   ],
   "source": [
    "r=int(input())\n",
    "for i in range(1,r+1):\n",
    "    for j in range(i):\n",
    "        print(i,end=' ')\n",
    "    print('')"
   ]
  },
  {
   "cell_type": "code",
   "execution_count": 212,
   "id": "ccf6390d-c1f5-4fa7-9d68-eab4f2034bb0",
   "metadata": {},
   "outputs": [
    {
     "name": "stdin",
     "output_type": "stream",
     "text": [
      " 5\n"
     ]
    },
    {
     "name": "stdout",
     "output_type": "stream",
     "text": [
      "1 \n",
      "2 1 \n",
      "3 2 1 \n",
      "4 3 2 1 \n",
      "5 4 3 2 1 \n"
     ]
    }
   ],
   "source": [
    "r=int(input())\n",
    "for i in range(r):\n",
    "    for j in range(i+1,0,-1):\n",
    "        print(j,end=' ')\n",
    "    print('')"
   ]
  },
  {
   "cell_type": "code",
   "execution_count": 220,
   "id": "eb2841b8-0320-4bc1-852b-82da3ed77ced",
   "metadata": {},
   "outputs": [
    {
     "name": "stdin",
     "output_type": "stream",
     "text": [
      " 5\n"
     ]
    },
    {
     "name": "stdout",
     "output_type": "stream",
     "text": [
      "5 4 3 2 1 \n",
      "4 3 2 1 \n",
      "3 2 1 \n",
      "2 1 \n",
      "1 \n",
      "\n"
     ]
    }
   ],
   "source": [
    "r=int(input())\n",
    "for i in range(r+1):\n",
    "    for j in range(r-i,0,-1):\n",
    "        print(j,end=' ')\n",
    "    print('')"
   ]
  },
  {
   "cell_type": "code",
   "execution_count": 256,
   "id": "74d8a3fd-e127-4d28-a3aa-6754799ec48e",
   "metadata": {},
   "outputs": [
    {
     "name": "stdin",
     "output_type": "stream",
     "text": [
      " 5\n"
     ]
    },
    {
     "name": "stdout",
     "output_type": "stream",
     "text": [
      "\n",
      "1 \n",
      "2 3 \n",
      "4 5 6 \n",
      "7 8 9 10 \n"
     ]
    }
   ],
   "source": [
    "r=int(input())\n",
    "cur=1\n",
    "for i in range(1,r+1):\n",
    "    for j in range(i-1):\n",
    "        print(cur,end=' ')\n",
    "        cur+=1\n",
    "    print('')"
   ]
  },
  {
   "cell_type": "code",
   "execution_count": 278,
   "id": "72ce71cc-d90e-42da-ac74-c85185718df0",
   "metadata": {},
   "outputs": [
    {
     "name": "stdin",
     "output_type": "stream",
     "text": [
      " 5\n"
     ]
    },
    {
     "name": "stdout",
     "output_type": "stream",
     "text": [
      "` ` ` ` \n",
      "` ` ` \n",
      "` ` \n",
      "` \n",
      "\n"
     ]
    }
   ],
   "source": [
    "r=int(input())\n",
    "for i in range(r):\n",
    "    for j in range(r-i-1):\n",
    "        print('`',end=' ')\n",
    "    print('')"
   ]
  },
  {
   "cell_type": "code",
   "execution_count": 323,
   "id": "e61c1dd4-9278-4e7f-9d5f-395d159390ad",
   "metadata": {},
   "outputs": [
    {
     "name": "stdin",
     "output_type": "stream",
     "text": [
      " 5\n"
     ]
    },
    {
     "name": "stdout",
     "output_type": "stream",
     "text": [
      "` ` ` ` 1 \n",
      "` ` ` 1 2 \n",
      "` ` 1 2 3 \n",
      "` 1 2 3 4 \n",
      "1 2 3 4 5 \n"
     ]
    }
   ],
   "source": [
    "r=int(input())\n",
    "for i in range(1,r+1):\n",
    "    for j in range(r-i):\n",
    "        print('`',end=' ')\n",
    "    for j in range(1,i+1):\n",
    "        print(j,end=' ')\n",
    "    print('')"
   ]
  },
  {
   "cell_type": "code",
   "execution_count": 333,
   "id": "245822a2-4051-4849-8698-d742e1f94f6e",
   "metadata": {},
   "outputs": [
    {
     "name": "stdin",
     "output_type": "stream",
     "text": [
      " 5\n"
     ]
    },
    {
     "name": "stdout",
     "output_type": "stream",
     "text": [
      "` ` ` ` 1 \n",
      "` ` ` 2 1 \n",
      "` ` 3 2 1 \n",
      "` 4 3 2 1 \n",
      "5 4 3 2 1 \n"
     ]
    }
   ],
   "source": [
    "r=int(input())\n",
    "for i in range(1,r+1):\n",
    "    num=1\n",
    "    for j in range(r,0,-1):\n",
    "        if j>i:\n",
    "            print('`',end=' ')\n",
    "        else:\n",
    "            print(j,end=' ')\n",
    "            num+=1\n",
    "    print('')"
   ]
  },
  {
   "cell_type": "code",
   "execution_count": 343,
   "id": "9a21de70-05d3-4bd0-ad53-b276b62b2619",
   "metadata": {},
   "outputs": [
    {
     "name": "stdin",
     "output_type": "stream",
     "text": [
      " 5\n"
     ]
    },
    {
     "name": "stdout",
     "output_type": "stream",
     "text": [
      "1 1 1 1 1 \n",
      "2 2 2 2 2 \n",
      "3 3 3 3 3 \n",
      "4 4 4 4 4 \n",
      "5 5 5 5 5 \n"
     ]
    }
   ],
   "source": [
    "r=int(input())\n",
    "for i in range(1,r+1):\n",
    "    for j in range(1,r+1):\n",
    "        print(i,end=' ')\n",
    "    print('')"
   ]
  },
  {
   "cell_type": "code",
   "execution_count": 345,
   "id": "c085db4f-b216-4016-9376-923164d97da4",
   "metadata": {},
   "outputs": [
    {
     "name": "stdin",
     "output_type": "stream",
     "text": [
      " 5\n"
     ]
    },
    {
     "name": "stdout",
     "output_type": "stream",
     "text": [
      "1 2 3 4 5 \n",
      "2 3 4 5 \n",
      "3 4 5 \n",
      "4 5 \n",
      "5 \n"
     ]
    }
   ],
   "source": [
    "r=int(input())\n",
    "for i in range(1,r+1):\n",
    "    for j in range(i,r+1):\n",
    "        print(j,end=' ')\n",
    "    print('')"
   ]
  },
  {
   "cell_type": "code",
   "execution_count": 361,
   "id": "98b4387d-65b5-4080-a594-524c626dd380",
   "metadata": {},
   "outputs": [
    {
     "name": "stdin",
     "output_type": "stream",
     "text": [
      " 5\n"
     ]
    },
    {
     "name": "stdout",
     "output_type": "stream",
     "text": [
      "1 2 3 4 5 \n",
      "2 2 3 4 5 \n",
      "3 3 3 4 5 \n",
      "4 4 4 4 5 \n",
      "5 5 5 5 5 \n"
     ]
    }
   ],
   "source": [
    "r=int(input())\n",
    "for i in range(1,r+1):\n",
    "    for j in range(1,r+1):\n",
    "        if j<=i:\n",
    "            print(i,end=' ')\n",
    "        else:\n",
    "            print(j,end=' ')\n",
    "    print('')"
   ]
  },
  {
   "cell_type": "code",
   "execution_count": 377,
   "id": "a378d1d3-c91a-475a-8137-00e4c25df631",
   "metadata": {},
   "outputs": [
    {
     "name": "stdin",
     "output_type": "stream",
     "text": [
      " 5\n"
     ]
    },
    {
     "name": "stdout",
     "output_type": "stream",
     "text": [
      "1  \n",
      "2 4  \n",
      "3 6 9  \n",
      "4 8 12 16  \n",
      "5 10 15 20 25  \n"
     ]
    }
   ],
   "source": [
    "r=int(input())\n",
    "for i in range(1,r+1):\n",
    "    for j in range(1,i+1):\n",
    "        print(i*j,end=' ')\n",
    "    print(' ')"
   ]
  },
  {
   "cell_type": "code",
   "execution_count": 85,
   "id": "f1bccbe6-d6b2-46b1-bef3-a7af27efce82",
   "metadata": {},
   "outputs": [
    {
     "name": "stdout",
     "output_type": "stream",
     "text": [
      "           \n",
      "        1    \n",
      "      2   2    \n",
      "    3   3   3    \n",
      "  4   4   4   4    \n",
      "5   5   5   5   5    \n"
     ]
    }
   ],
   "source": [
    "r=5\n",
    "for i in range(r+1):\n",
    "  for j in range(r,0,-1):\n",
    "    if j>i:\n",
    "      print(' ',end=' ')\n",
    "    else:\n",
    "      print(i,end='   ')\n",
    "  print(' ')"
   ]
  },
  {
   "cell_type": "code",
   "execution_count": 25,
   "id": "7181e179-efe3-46b6-a8b7-d964c9a5e346",
   "metadata": {},
   "outputs": [
    {
     "name": "stdout",
     "output_type": "stream",
     "text": [
      "5   4   3   2   1    \n",
      "  4   3   2   1    \n",
      "    3   2   1    \n",
      "      2   1    \n",
      "        1    \n"
     ]
    }
   ],
   "source": [
    "r=5\n",
    "for i in range(r,0,-1):\n",
    "  for j in range(r,0,-1):\n",
    "    if j>i:\n",
    "      print(' ',end=' ')\n",
    "    else:\n",
    "      print(j,end='   ')\n",
    "  print(' ')"
   ]
  },
  {
   "cell_type": "code",
   "execution_count": 29,
   "id": "31e31778-f00e-4f9a-8d55-27c70a2b00e1",
   "metadata": {},
   "outputs": [
    {
     "name": "stdout",
     "output_type": "stream",
     "text": [
      "        1  \n",
      "      2 2 2  \n",
      "    3 3 3 3 3  \n",
      "  4 4 4 4 4 4 4  \n"
     ]
    }
   ],
   "source": [
    "r=5\n",
    "for i in range(1,r):\n",
    "  for j in range(r,0,-1):\n",
    "    if j>i:\n",
    "      print(' ',end=' ')\n",
    "    else:\n",
    "      print(i,end=' ')\n",
    "  for j in range(i-1):\n",
    "    print(i,end=' ')\n",
    "  print(' ')"
   ]
  },
  {
   "cell_type": "markdown",
   "id": "fec41f20-987a-45d8-86d0-4385b2433066",
   "metadata": {},
   "source": [
    "**STAR PATTERN**"
   ]
  },
  {
   "cell_type": "code",
   "execution_count": 109,
   "id": "0368151e-337a-41b0-b536-c5e320b5b133",
   "metadata": {},
   "outputs": [
    {
     "name": "stdin",
     "output_type": "stream",
     "text": [
      " 5\n"
     ]
    },
    {
     "name": "stdout",
     "output_type": "stream",
     "text": [
      "\n",
      "* \n",
      "* * \n",
      "* * * \n",
      "* * * * \n",
      "* * * * * \n"
     ]
    }
   ],
   "source": [
    "row = int(input())\n",
    "\n",
    "for i in range(row+1):\n",
    "  for j in range(i):\n",
    "    print('*',end=' ')\n",
    "  print('')"
   ]
  },
  {
   "cell_type": "code",
   "execution_count": 34,
   "id": "262258c6-0f46-4cf3-b151-7b90fdab12b9",
   "metadata": {},
   "outputs": [
    {
     "name": "stdin",
     "output_type": "stream",
     "text": [
      " 5\n"
     ]
    },
    {
     "name": "stdout",
     "output_type": "stream",
     "text": [
      "* * * * *  \n",
      "* * * *  \n",
      "* * *  \n",
      "* *  \n",
      "*  \n"
     ]
    }
   ],
   "source": [
    "row = int(input())\n",
    "\n",
    "for i in range(row,0,-1):\n",
    "  for j in range(i):\n",
    "    print('*',end=' ')\n",
    "  print(\" \")"
   ]
  },
  {
   "cell_type": "code",
   "execution_count": 111,
   "id": "90e9182b-c228-4c27-92e1-f09cd8351e80",
   "metadata": {},
   "outputs": [
    {
     "name": "stdin",
     "output_type": "stream",
     "text": [
      " 5\n"
     ]
    },
    {
     "name": "stdout",
     "output_type": "stream",
     "text": [
      "* * * * *  \n",
      "  * * * *  \n",
      "    * * *  \n",
      "      * *  \n",
      "        *  \n"
     ]
    }
   ],
   "source": [
    "row = int(input())\n",
    "\n",
    "for i in range(row,0,-1):\n",
    "  for j in range(row,0,-1):\n",
    "    if j>i:\n",
    "      print(\" \",end=' ')\n",
    "    else:\n",
    "      print(\"*\",end=' ')\n",
    "  print(' ')"
   ]
  },
  {
   "cell_type": "code",
   "execution_count": 38,
   "id": "ae53828d-3ae3-40b9-a2d1-54eefa2bf013",
   "metadata": {},
   "outputs": [
    {
     "name": "stdin",
     "output_type": "stream",
     "text": [
      " 5\n"
     ]
    },
    {
     "name": "stdout",
     "output_type": "stream",
     "text": [
      "           \n",
      "        *  \n",
      "      * *  \n",
      "    * * *  \n",
      "  * * * *  \n",
      "* * * * *  \n"
     ]
    }
   ],
   "source": [
    "row = int(input())\n",
    "\n",
    "for i in range(row+1):\n",
    "  for j in range(row,0,-1):\n",
    "    if j>i:\n",
    "      print(\" \",end=' ')\n",
    "    else:\n",
    "      print(\"*\",end=' ')\n",
    "  print(' ')"
   ]
  },
  {
   "cell_type": "code",
   "execution_count": 113,
   "id": "64350fa2-a885-42ea-8ced-9e217854c0a6",
   "metadata": {},
   "outputs": [
    {
     "name": "stdin",
     "output_type": "stream",
     "text": [
      " 5\n"
     ]
    },
    {
     "name": "stdout",
     "output_type": "stream",
     "text": [
      "\n",
      "* \n",
      "* * \n",
      "* * * \n",
      "* * * * \n",
      "* * * * * \n",
      "* * * *  \n",
      "* * *  \n",
      "* *  \n",
      "*  \n",
      " \n"
     ]
    }
   ],
   "source": [
    "row = int(input())\n",
    "\n",
    "for i in range(row+1):\n",
    "  for j in range(i):\n",
    "    print('*',end=' ')\n",
    "  print('')\n",
    "\n",
    "for i in range(row,0,-1):\n",
    "  for j in range(i-1):\n",
    "    print('*',end=' ')\n",
    "  print(\" \")"
   ]
  },
  {
   "cell_type": "code",
   "execution_count": 42,
   "id": "d2cc7e86-0a34-4caa-8feb-8eb3b8193407",
   "metadata": {},
   "outputs": [
    {
     "name": "stdin",
     "output_type": "stream",
     "text": [
      " 5\n"
     ]
    },
    {
     "name": "stdout",
     "output_type": "stream",
     "text": [
      "           \n",
      "        *  \n",
      "      * *  \n",
      "    * * *  \n",
      "  * * * *  \n",
      "* * * * *  \n",
      "  * * * *  \n",
      "    * * *  \n",
      "      * *  \n",
      "        *  \n"
     ]
    }
   ],
   "source": [
    "row = int(input())\n",
    "\n",
    "for i in range(row):\n",
    "  for j in range(row,0,-1):\n",
    "    if j>i:\n",
    "      print(\" \",end=' ')\n",
    "    else:\n",
    "      print(\"*\",end=' ')\n",
    "  print(' ')\n",
    "\n",
    "for i in range(row,0,-1):\n",
    "  for j in range(row,0,-1):\n",
    "    if j>i:\n",
    "      print(\" \",end=' ')\n",
    "    else:\n",
    "      print(\"*\",end=' ')\n",
    "  print(' ')"
   ]
  },
  {
   "cell_type": "code",
   "execution_count": 115,
   "id": "b9593106-2a87-4aae-885a-224426e56330",
   "metadata": {},
   "outputs": [
    {
     "name": "stdin",
     "output_type": "stream",
     "text": [
      " 5\n"
     ]
    },
    {
     "name": "stdout",
     "output_type": "stream",
     "text": [
      "           \n",
      "        *  \n",
      "      * * *  \n",
      "    * * * * *  \n",
      "  * * * * * * *  \n"
     ]
    }
   ],
   "source": [
    "row = int(input())\n",
    "\n",
    "for i in range(0,row):\n",
    "  for j in range(row,0,-1):\n",
    "    if j>i:\n",
    "      print(' ',end=' ')\n",
    "    else:\n",
    "      print('*',end=' ')\n",
    "  for j in range(i-1):\n",
    "    print('*',end=' ')\n",
    "  print(' ')"
   ]
  },
  {
   "cell_type": "code",
   "execution_count": 46,
   "id": "434fbc31-3751-4d86-810f-7e9541b972ea",
   "metadata": {},
   "outputs": [
    {
     "name": "stdin",
     "output_type": "stream",
     "text": [
      " 5\n"
     ]
    },
    {
     "name": "stdout",
     "output_type": "stream",
     "text": [
      "  * * * * * * *  \n",
      "    * * * * *  \n",
      "      * * *  \n",
      "        *  \n"
     ]
    }
   ],
   "source": [
    "row = int(input())\n",
    "\n",
    "for i in range(row-1,0,-1):\n",
    "  for j in range(row,0,-1):\n",
    "    if j>i:\n",
    "      print(' ',end=' ')\n",
    "    else:\n",
    "      print('*',end=' ')\n",
    "  for j in range(i-1):\n",
    "    print('*',end=' ')\n",
    "  print(' ')"
   ]
  },
  {
   "cell_type": "code",
   "execution_count": 107,
   "id": "b690228d-ddb6-440d-95a6-a5042c4fd650",
   "metadata": {},
   "outputs": [
    {
     "name": "stdin",
     "output_type": "stream",
     "text": [
      " 5\n"
     ]
    },
    {
     "name": "stdout",
     "output_type": "stream",
     "text": [
      "           \n",
      "        *  \n",
      "      * * *  \n",
      "    * * * * *  \n",
      "  * * * * * * *  \n",
      "  * * * * * * *  \n",
      "    * * * * *  \n",
      "      * * *  \n",
      "        *  \n"
     ]
    }
   ],
   "source": [
    "row = int(input())\n",
    "\n",
    "for i in range(0,row):\n",
    "  for j in range(row,0,-1):\n",
    "    if j>i:\n",
    "      print(' ',end=' ')\n",
    "    else:\n",
    "      print('*',end=' ')\n",
    "  for j in range(i-1):\n",
    "    print('*',end=' ')\n",
    "  print(' ')\n",
    "\n",
    "for i in range(row-1,0,-1):\n",
    "  for j in range(row,0,-1):\n",
    "    if j>i:\n",
    "      print(' ',end=' ')\n",
    "    else:\n",
    "      print('*',end=' ')\n",
    "  for j in range(i-1):\n",
    "    print('*',end=' ')\n",
    "  print(' ')"
   ]
  },
  {
   "cell_type": "code",
   "execution_count": 103,
   "id": "daf7798a-e557-4949-adc1-0e0e2a168baf",
   "metadata": {},
   "outputs": [
    {
     "name": "stdout",
     "output_type": "stream",
     "text": [
      "*****\n",
      "*****\n",
      "*****\n",
      "*****\n",
      "*****\n"
     ]
    }
   ],
   "source": [
    "r = 5\n",
    "for i in range(0, r):\n",
    "    for j in range(0, r):\n",
    "        print(\"*\", end=\"\")\n",
    "    print()"
   ]
  },
  {
   "cell_type": "code",
   "execution_count": 95,
   "id": "3c60904a-0acb-4346-b5e6-ae4f98ab963f",
   "metadata": {},
   "outputs": [
    {
     "name": "stdout",
     "output_type": "stream",
     "text": [
      "*****\n",
      "*   *\n",
      "*   *\n",
      "*   *\n",
      "*****\n"
     ]
    }
   ],
   "source": [
    "r = 5\n",
    "for i in range(r):\n",
    "    for j in range(r):\n",
    "        if i == 0 or i == r - 1 or j == 0 or j == r - 1:\n",
    "            print('*', end='')\n",
    "        else:\n",
    "            print(' ', end='')\n",
    "    print()"
   ]
  },
  {
   "cell_type": "code",
   "execution_count": null,
   "id": "9ac7b254-87af-48ae-b083-695bc335bd1b",
   "metadata": {},
   "outputs": [],
   "source": []
  },
  {
   "cell_type": "code",
   "execution_count": null,
   "id": "9c0983ad-d117-469b-b20b-ec5c0313e7ae",
   "metadata": {
    "scrolled": true
   },
   "outputs": [],
   "source": []
  },
  {
   "cell_type": "code",
   "execution_count": null,
   "id": "113a876f-d3ef-4333-9435-1bbbf7d25316",
   "metadata": {
    "scrolled": true
   },
   "outputs": [],
   "source": []
  },
  {
   "cell_type": "code",
   "execution_count": null,
   "id": "30a7e8ae-2b4d-418e-bba3-80ff453b35c0",
   "metadata": {},
   "outputs": [],
   "source": []
  },
  {
   "cell_type": "code",
   "execution_count": null,
   "id": "09c3a64d-d8b6-4212-a0c4-4f7055f54faa",
   "metadata": {},
   "outputs": [],
   "source": []
  }
 ],
 "metadata": {
  "kernelspec": {
   "display_name": "Python 3 (ipykernel)",
   "language": "python",
   "name": "python3"
  },
  "language_info": {
   "codemirror_mode": {
    "name": "ipython",
    "version": 3
   },
   "file_extension": ".py",
   "mimetype": "text/x-python",
   "name": "python",
   "nbconvert_exporter": "python",
   "pygments_lexer": "ipython3",
   "version": "3.12.4"
  }
 },
 "nbformat": 4,
 "nbformat_minor": 5
}
