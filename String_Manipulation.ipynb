{
 "cells": [
  {
   "cell_type": "markdown",
   "id": "f3f57e5c-7225-4f5d-b98c-078a5f41576b",
   "metadata": {},
   "source": [
    "**STRING MANIPULATION & METHODS**"
   ]
  },
  {
   "cell_type": "code",
   "execution_count": 2,
   "id": "e6956556-223c-41d1-8abe-cc3d68170738",
   "metadata": {},
   "outputs": [
    {
     "name": "stdout",
     "output_type": "stream",
     "text": [
      "LOKI\n"
     ]
    }
   ],
   "source": [
    "s = \"LOKI\"\n",
    "print(s)"
   ]
  },
  {
   "cell_type": "code",
   "execution_count": 4,
   "id": "f204189c-d35e-441a-98db-f17c2e3dc5a3",
   "metadata": {},
   "outputs": [
    {
     "name": "stdout",
     "output_type": "stream",
     "text": [
      " I Love Python \n",
      "            Python is Great\n"
     ]
    }
   ],
   "source": [
    "# Multi-line Strings\n",
    "s = \"\"\" I Love Python \n",
    "            Python is Great\"\"\"\n",
    "print(s)"
   ]
  },
  {
   "cell_type": "code",
   "execution_count": 14,
   "id": "f73f708d-0ae5-4af7-8ea3-69bf324e3ca8",
   "metadata": {},
   "outputs": [
    {
     "name": "stdout",
     "output_type": "stream",
     "text": [
      "I\n",
      "m\n",
      "i\n",
      "I\n",
      "i\n"
     ]
    }
   ],
   "source": [
    "s = \"I am Loki\"\n",
    "print(s[0])\n",
    "print(s[3])\n",
    "print(s[8])\n",
    "print(s[-9])\n",
    "print(s[-1]) # to get last element\n"
   ]
  },
  {
   "cell_type": "code",
   "execution_count": 18,
   "id": "e2e4bf0d-d6b1-4268-8cd0-259103e9dd93",
   "metadata": {},
   "outputs": [
    {
     "name": "stdout",
     "output_type": "stream",
     "text": [
      "Loki\n"
     ]
    }
   ],
   "source": [
    "s = \"IamLoki@gmail.com\"\n",
    "print(s[3:7])"
   ]
  },
  {
   "cell_type": "code",
   "execution_count": 28,
   "id": "fc85e66c-73f2-4be8-858c-3e4a9c0bb80a",
   "metadata": {},
   "outputs": [
    {
     "name": "stdout",
     "output_type": "stream",
     "text": [
      "[2, 4, 6]\n",
      "[1, 3, 5]\n",
      "[6, 5, 4, 3, 2, 1]\n"
     ]
    }
   ],
   "source": [
    "s = [1,2,3,4,5,6]\n",
    "print(s[1::2])\n",
    "print(s[::2])\n",
    "print(s[::-1]) # reverse a string"
   ]
  },
  {
   "cell_type": "code",
   "execution_count": 38,
   "id": "19670bd8-7528-4da5-84a3-9ddf0ea35269",
   "metadata": {},
   "outputs": [
    {
     "name": "stdout",
     "output_type": "stream",
     "text": [
      "Loki\n",
      "I am Loki\n"
     ]
    }
   ],
   "source": [
    "s = \"Loki\"\n",
    "#s[0] = 'I am'\n",
    "print(s)\n",
    "\n",
    "s = \"I am \" + s[:]\n",
    "print(s)"
   ]
  },
  {
   "cell_type": "code",
   "execution_count": 42,
   "id": "11d645f1-f147-4aae-bada-53f5547e678d",
   "metadata": {},
   "outputs": [
    {
     "ename": "NameError",
     "evalue": "name 's' is not defined",
     "output_type": "error",
     "traceback": [
      "\u001b[1;31m---------------------------------------------------------------------------\u001b[0m",
      "\u001b[1;31mNameError\u001b[0m                                 Traceback (most recent call last)",
      "Cell \u001b[1;32mIn[42], line 3\u001b[0m\n\u001b[0;32m      1\u001b[0m s \u001b[38;5;241m=\u001b[39m \u001b[38;5;124m'\u001b[39m\u001b[38;5;124mLoki\u001b[39m\u001b[38;5;124m'\u001b[39m\n\u001b[0;32m      2\u001b[0m \u001b[38;5;28;01mdel\u001b[39;00m s\n\u001b[1;32m----> 3\u001b[0m \u001b[38;5;28mprint\u001b[39m(s)\n",
      "\u001b[1;31mNameError\u001b[0m: name 's' is not defined"
     ]
    }
   ],
   "source": [
    "s = 'Loki'\n",
    "del s\n",
    "print(s)"
   ]
  },
  {
   "cell_type": "code",
   "execution_count": 44,
   "id": "0a4a3aa2-bd82-41b9-bde3-4f7bb6767bb6",
   "metadata": {},
   "outputs": [
    {
     "name": "stdout",
     "output_type": "stream",
     "text": [
      "loki\n",
      "Loki\n",
      "I am Loki\n"
     ]
    }
   ],
   "source": [
    "# Update a String\n",
    "s = 'loki'\n",
    "s1 = 'L'+ s[1:]\n",
    "s2 = s.replace('loki','I am Loki')\n",
    "print(s)\n",
    "print(s1)\n",
    "print(s2)"
   ]
  },
  {
   "cell_type": "code",
   "execution_count": 50,
   "id": "9c8011bf-26ee-410c-bbc4-f284490c6e71",
   "metadata": {},
   "outputs": [
    {
     "name": "stdout",
     "output_type": "stream",
     "text": [
      "Length of string is :9\n"
     ]
    }
   ],
   "source": [
    "# Check length\n",
    "s = 'I am Loki'\n",
    "print(f\"Length of string is :{len(s)}\")"
   ]
  },
  {
   "cell_type": "code",
   "execution_count": 52,
   "id": "116e3a7d-7c7c-43c0-a313-c021b52efa3f",
   "metadata": {},
   "outputs": [
    {
     "name": "stdout",
     "output_type": "stream",
     "text": [
      "I AM LOKI\n",
      "i am loki\n"
     ]
    }
   ],
   "source": [
    "s = 'I am Loki'\n",
    "print(s.upper())   \n",
    "print(s.lower()) "
   ]
  },
  {
   "cell_type": "code",
   "execution_count": 58,
   "id": "a65470b2-c615-49ae-871f-7cd3608ce90d",
   "metadata": {},
   "outputs": [
    {
     "name": "stdout",
     "output_type": "stream",
     "text": [
      "I am loki\n",
      "I Am Loki\n"
     ]
    }
   ],
   "source": [
    "s = 'i am loki'\n",
    "print(s.capitalize())  \n",
    "print(s.title())  "
   ]
  },
  {
   "cell_type": "code",
   "execution_count": 82,
   "id": "8de97240-a77f-4360-98eb-ae6ddda42ce3",
   "metadata": {},
   "outputs": [
    {
     "name": "stdout",
     "output_type": "stream",
     "text": [
      "   Loki    Loki     19\n",
      "Loki    Loki 12\n",
      "Loki    Loki 16\n",
      "Loki    Loki 15\n"
     ]
    }
   ],
   "source": [
    "s = '   Loki    Loki    '\n",
    "print(s, len(s))\n",
    "\n",
    "s1 = s.strip()\n",
    "print(s1.strip(), len(s1)) \n",
    "\n",
    "s2 = s.lstrip()\n",
    "print(s2.strip(), len(s2))\n",
    "\n",
    "s3 = s.rstrip()\n",
    "print(s3.strip(), len(s3))"
   ]
  },
  {
   "cell_type": "code",
   "execution_count": 84,
   "id": "1bf2c589-88e6-439d-957e-7ab62fc3ddf3",
   "metadata": {},
   "outputs": [
    {
     "name": "stdout",
     "output_type": "stream",
     "text": [
      "Hello World\n"
     ]
    }
   ],
   "source": [
    "s = 'Hello'\n",
    "e = 'World'\n",
    "res  = s +\" \"+e\n",
    "print(res)"
   ]
  },
  {
   "cell_type": "code",
   "execution_count": 90,
   "id": "2489bb89-7f94-47d5-85ce-f07f7eb33b7d",
   "metadata": {},
   "outputs": [
    {
     "name": "stdout",
     "output_type": "stream",
     "text": [
      "Hello Hello Hello \n"
     ]
    }
   ],
   "source": [
    "s = 'Hello '\n",
    "print(s * 3)"
   ]
  },
  {
   "cell_type": "code",
   "execution_count": 92,
   "id": "6f12bf58-e44b-4e08-8b39-a0c1440e19d4",
   "metadata": {},
   "outputs": [
    {
     "name": "stdin",
     "output_type": "stream",
     "text": [
      "Enter your Name:  Loki\n",
      "Enter your Age:  26\n"
     ]
    },
    {
     "data": {
      "text/plain": [
       "'My name is Loki, I am 26 years old'"
      ]
     },
     "execution_count": 92,
     "metadata": {},
     "output_type": "execute_result"
    }
   ],
   "source": [
    "name = input(\"Enter your Name: \")\n",
    "age = input(\"Enter your Age: \")\n",
    "\n",
    "def details(name,age):\n",
    "    return f\"My name is {name}, I am {age} years old\"\n",
    "\n",
    "details(name,age)"
   ]
  },
  {
   "cell_type": "code",
   "execution_count": 94,
   "id": "34a1863f-3f6c-47e0-805c-fcebddb9fd8b",
   "metadata": {},
   "outputs": [
    {
     "name": "stdout",
     "output_type": "stream",
     "text": [
      "True\n",
      "True\n"
     ]
    }
   ],
   "source": [
    "s = \"I am Loki\"\n",
    "print(\"Loki\" in s)\n",
    "print(\"Thor\" not in s)"
   ]
  },
  {
   "cell_type": "code",
   "execution_count": 96,
   "id": "d24f726a-02d0-45eb-8fcf-9e1cbc3764b1",
   "metadata": {},
   "outputs": [
    {
     "name": "stdout",
     "output_type": "stream",
     "text": [
      "i AM lOKI\n"
     ]
    }
   ],
   "source": [
    "s = \"I am Loki\"\n",
    "print(s.swapcase())"
   ]
  },
  {
   "cell_type": "code",
   "execution_count": 128,
   "id": "b30e6d81-6a19-4cb2-920c-774c27f0353f",
   "metadata": {},
   "outputs": [
    {
     "name": "stdout",
     "output_type": "stream",
     "text": [
      "     I am Loki      \n"
     ]
    }
   ],
   "source": [
    "s = \"I am Loki\"\n",
    "s1=s.center(20) \n",
    "print(s1)"
   ]
  },
  {
   "cell_type": "code",
   "execution_count": 130,
   "id": "0e79a072-68c4-4200-be29-9e79f3e6602e",
   "metadata": {},
   "outputs": [
    {
     "name": "stdout",
     "output_type": "stream",
     "text": [
      "-----I am Loki------\n"
     ]
    }
   ],
   "source": [
    "s = \"I am Loki\"\n",
    "s1=s.center(20,\"-\")\n",
    "print(s1)"
   ]
  },
  {
   "cell_type": "code",
   "execution_count": 136,
   "id": "26ef9d12-22f9-47ab-bf50-d68362d0b737",
   "metadata": {},
   "outputs": [
    {
     "name": "stdout",
     "output_type": "stream",
     "text": [
      "1\n"
     ]
    }
   ],
   "source": [
    "s = \"I am Loki\"\n",
    "print(s.count('i'))"
   ]
  },
  {
   "cell_type": "code",
   "execution_count": 162,
   "id": "b483c821-8276-44f3-9ecf-f41f0ae4244b",
   "metadata": {},
   "outputs": [
    {
     "name": "stdout",
     "output_type": "stream",
     "text": [
      "4\n",
      "2\n"
     ]
    }
   ],
   "source": [
    "s = \"\"\"Peter Piper picked a peck of pickled peppers.\n",
    "A peck of pickled peppers Peter Piper picked.\n",
    "If Peter Piper picked a peck of pickled peppers,\n",
    "Where’s the peck of pickled peppers Peter Piper picked?\"\"\"\n",
    "\n",
    "str = \"Piper\"\n",
    "print(s.count(\"Peter\"))\n",
    "print(s.count(str,0,90))\n"
   ]
  },
  {
   "cell_type": "code",
   "execution_count": 164,
   "id": "675b36c2-c2c6-4b7d-960f-dd9a7355f816",
   "metadata": {},
   "outputs": [
    {
     "name": "stdout",
     "output_type": "stream",
     "text": [
      "True\n"
     ]
    }
   ],
   "source": [
    "s = \"I am Loki\"\n",
    "print(s.endswith('Loki'))"
   ]
  },
  {
   "cell_type": "code",
   "execution_count": 182,
   "id": "8c270c47-79a1-45d9-8210-5472a1d76da4",
   "metadata": {},
   "outputs": [
    {
     "name": "stdout",
     "output_type": "stream",
     "text": [
      "5\n",
      "2\n",
      "-1\n"
     ]
    }
   ],
   "source": [
    "s = \"I am Loki\"\n",
    "print(s.find('Loki'))\n",
    "\n",
    "str = \"am\"\n",
    "print(s.find(str))\n",
    "\n",
    "str = \"b\"\n",
    "print(s.find(str)) # return -1 if not found"
   ]
  },
  {
   "cell_type": "code",
   "execution_count": 184,
   "id": "1bb6a3b3-cf8d-4643-b9fd-ba14121fd458",
   "metadata": {},
   "outputs": [
    {
     "name": "stdout",
     "output_type": "stream",
     "text": [
      "5\n",
      "2\n"
     ]
    },
    {
     "ename": "ValueError",
     "evalue": "substring not found",
     "output_type": "error",
     "traceback": [
      "\u001b[1;31m---------------------------------------------------------------------------\u001b[0m",
      "\u001b[1;31mValueError\u001b[0m                                Traceback (most recent call last)",
      "Cell \u001b[1;32mIn[184], line 9\u001b[0m\n\u001b[0;32m      6\u001b[0m \u001b[38;5;28mprint\u001b[39m(s\u001b[38;5;241m.\u001b[39mindex(\u001b[38;5;28mstr\u001b[39m))\n\u001b[0;32m      8\u001b[0m \u001b[38;5;28mstr\u001b[39m \u001b[38;5;241m=\u001b[39m \u001b[38;5;124m\"\u001b[39m\u001b[38;5;124mb\u001b[39m\u001b[38;5;124m\"\u001b[39m\n\u001b[1;32m----> 9\u001b[0m \u001b[38;5;28mprint\u001b[39m(s\u001b[38;5;241m.\u001b[39mindex(\u001b[38;5;28mstr\u001b[39m))\n",
      "\u001b[1;31mValueError\u001b[0m: substring not found"
     ]
    }
   ],
   "source": [
    "s = \"I am Loki\"\n",
    "res = s.index(\"Loki\")\n",
    "print(res)\n",
    "\n",
    "str = \"am\"\n",
    "print(s.index(str))\n",
    "\n",
    "str = \"b\"\n",
    "print(s.index(str)) #return error strng not found"
   ]
  },
  {
   "cell_type": "code",
   "execution_count": 188,
   "id": "4ca542ec-37a4-4283-b49b-79c6438f2e39",
   "metadata": {},
   "outputs": [
    {
     "name": "stdin",
     "output_type": "stream",
     "text": [
      "Enter a string:  1234321\n"
     ]
    },
    {
     "name": "stdout",
     "output_type": "stream",
     "text": [
      "Given string 1234321 is Palindrome\n"
     ]
    }
   ],
   "source": [
    "# palindrome\n",
    "s = input(\"Enter a string: \")\n",
    "if s == s[::-1]:\n",
    "    print(f\"Given string {s} is Palindrome\")\n",
    "else:\n",
    "    print(f\"Given string {s} is not Palindrome\")"
   ]
  },
  {
   "cell_type": "code",
   "execution_count": 202,
   "id": "34aac6b3-4c81-4fa3-919f-cc2e9b98edf1",
   "metadata": {},
   "outputs": [
    {
     "name": "stdin",
     "output_type": "stream",
     "text": [
      "Enter a string:  ammaamma\n"
     ]
    },
    {
     "name": "stdout",
     "output_type": "stream",
     "text": [
      "Symetrical\n"
     ]
    }
   ],
   "source": [
    "def is_symmetrical(s):\n",
    "    length = len(s)\n",
    "    mid = length // 2\n",
    "    if length % 2 == 0:\n",
    "        return s[:mid] == s[mid:]\n",
    "    else:\n",
    "        return s[:mid] == s[mid+1:]\n",
    "\n",
    "s = input(\"Enter a string: \")\n",
    "if is_symmetrical(s):\n",
    "    print(\"Symetrical\")\n",
    "else:\n",
    "    print(\"Not Symetrical\")\n"
   ]
  },
  {
   "cell_type": "code",
   "execution_count": 228,
   "id": "92a8a3fb-9065-40a5-9e81-0b21343af523",
   "metadata": {},
   "outputs": [
    {
     "name": "stdout",
     "output_type": "stream",
     "text": [
      "Loki am I\n"
     ]
    }
   ],
   "source": [
    "s = \"I am Loki\"\n",
    "res=[]\n",
    "word = s.split(' ')\n",
    "s1 = word[::-1]\n",
    "\n",
    "for i in s1:\n",
    "    res.append(i)\n",
    "print(' '.join(res))    "
   ]
  },
  {
   "cell_type": "code",
   "execution_count": 230,
   "id": "cbe4d35d-94cc-4a34-b954-d0caed130488",
   "metadata": {},
   "outputs": [
    {
     "name": "stdout",
     "output_type": "stream",
     "text": [
      " AM LOK\n"
     ]
    }
   ],
   "source": [
    "s = \"I AM LOKI\"\n",
    "s = s.replace(\"I\",\"\")\n",
    "print(s)"
   ]
  },
  {
   "cell_type": "code",
   "execution_count": 232,
   "id": "4ec376da-ca16-49bc-a865-682fbccf9153",
   "metadata": {},
   "outputs": [
    {
     "name": "stdout",
     "output_type": "stream",
     "text": [
      "9\n",
      "9\n"
     ]
    }
   ],
   "source": [
    "s = \"I AM LOKI\"\n",
    "print(len(s))\n",
    "\n",
    "counter = 0\n",
    "for i in s:\n",
    "    counter+=1\n",
    "print(counter)"
   ]
  },
  {
   "cell_type": "code",
   "execution_count": 234,
   "id": "2f474a2a-c614-450b-8a7a-d9181f41a0a0",
   "metadata": {},
   "outputs": [
    {
     "name": "stdout",
     "output_type": "stream",
     "text": [
      "9\n",
      "7\n"
     ]
    }
   ],
   "source": [
    "s = \"I AM LOKI\"\n",
    "print(len(s))\n",
    "s = s.replace(\" \",\"\")\n",
    "print(len(s))"
   ]
  },
  {
   "cell_type": "code",
   "execution_count": 238,
   "id": "25e09502-8353-4ddd-8256-a9bad16e355a",
   "metadata": {},
   "outputs": [
    {
     "name": "stdout",
     "output_type": "stream",
     "text": [
      "AM\n",
      "LOKI\n"
     ]
    }
   ],
   "source": [
    "s = \"I AM LOKI\"\n",
    "l = s.split(' ')\n",
    "for i in l:\n",
    "    if len(i)%2 == 0:\n",
    "        print(i)"
   ]
  },
  {
   "cell_type": "code",
   "execution_count": 1,
   "id": "4dad0c3a-3db5-41b4-ab07-fbb2946c56e2",
   "metadata": {},
   "outputs": [
    {
     "data": {
      "text/plain": [
       "2"
      ]
     },
     "execution_count": 1,
     "metadata": {},
     "output_type": "execute_result"
    }
   ],
   "source": [
    "def count_str(string,sub):\n",
    "    count = 0\n",
    "    j = len(sub)\n",
    "    for i in range(len(string)):\n",
    "        if string[i:j] == sub:\n",
    "            count+=1\n",
    "        i+=1\n",
    "        j+=1\n",
    "    return count\n",
    "string = \"ABCDCDC\"\n",
    "sub = \"CDC\"\n",
    "count_str(string,sub)"
   ]
  },
  {
   "cell_type": "code",
   "execution_count": null,
   "id": "1a5bb139-467b-4b9b-8039-c6a83fb6c06d",
   "metadata": {},
   "outputs": [],
   "source": []
  },
  {
   "cell_type": "code",
   "execution_count": null,
   "id": "24c5ff22-e0b8-47d3-9395-3c30d0da59f3",
   "metadata": {},
   "outputs": [],
   "source": []
  },
  {
   "cell_type": "code",
   "execution_count": null,
   "id": "5ff8b288-e2a2-436c-82cd-1171d5986e5b",
   "metadata": {},
   "outputs": [],
   "source": []
  }
 ],
 "metadata": {
  "kernelspec": {
   "display_name": "Python 3 (ipykernel)",
   "language": "python",
   "name": "python3"
  },
  "language_info": {
   "codemirror_mode": {
    "name": "ipython",
    "version": 3
   },
   "file_extension": ".py",
   "mimetype": "text/x-python",
   "name": "python",
   "nbconvert_exporter": "python",
   "pygments_lexer": "ipython3",
   "version": "3.12.4"
  }
 },
 "nbformat": 4,
 "nbformat_minor": 5
}
